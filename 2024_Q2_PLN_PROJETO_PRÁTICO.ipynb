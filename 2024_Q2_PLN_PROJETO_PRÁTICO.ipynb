{
  "nbformat": 4,
  "nbformat_minor": 0,
  "metadata": {
    "colab": {
      "provenance": []
    },
    "kernelspec": {
      "name": "python3",
      "display_name": "Python 3"
    },
    "widgets": {
      "application/vnd.jupyter.widget-state+json": {
        "58aa6fec5a084f248601e58692317370": {
          "model_module": "@jupyter-widgets/controls",
          "model_name": "VBoxModel",
          "model_module_version": "1.5.0",
          "state": {
            "_dom_classes": [],
            "_model_module": "@jupyter-widgets/controls",
            "_model_module_version": "1.5.0",
            "_model_name": "VBoxModel",
            "_view_count": null,
            "_view_module": "@jupyter-widgets/controls",
            "_view_module_version": "1.5.0",
            "_view_name": "VBoxView",
            "box_style": "",
            "children": [
              "IPY_MODEL_cc896fef453245ff88550051398e15ba",
              "IPY_MODEL_dda509d8460f4922936a59848afe7e67"
            ],
            "layout": "IPY_MODEL_f3a3d43b660242fda31f378c1377a9b6"
          }
        },
        "cc896fef453245ff88550051398e15ba": {
          "model_module": "@jupyter-widgets/controls",
          "model_name": "HTMLModel",
          "model_module_version": "1.5.0",
          "state": {
            "_dom_classes": [],
            "_model_module": "@jupyter-widgets/controls",
            "_model_module_version": "1.5.0",
            "_model_name": "HTMLModel",
            "_view_count": null,
            "_view_module": "@jupyter-widgets/controls",
            "_view_module_version": "1.5.0",
            "_view_name": "HTMLView",
            "description": "",
            "description_tooltip": null,
            "layout": "IPY_MODEL_94f465bb59a048dcb2025c5764d29cc9",
            "placeholder": "​",
            "style": "IPY_MODEL_01e52abb16144c7cb2cf88ae4600b131",
            "value": "<div style='padding: 0px; font-size: 18px; font-weight: bold'>Qual é a forma padrão de uma equação quadrática?</div>"
          }
        },
        "dda509d8460f4922936a59848afe7e67": {
          "model_module": "@jupyter-widgets/controls",
          "model_name": "HTMLModel",
          "model_module_version": "1.5.0",
          "state": {
            "_dom_classes": [],
            "_model_module": "@jupyter-widgets/controls",
            "_model_module_version": "1.5.0",
            "_model_name": "HTMLModel",
            "_view_count": null,
            "_view_module": "@jupyter-widgets/controls",
            "_view_module_version": "1.5.0",
            "_view_name": "HTMLView",
            "description": "",
            "description_tooltip": null,
            "layout": "IPY_MODEL_b7aa61af9d074d83bc4ef52363c9d876",
            "placeholder": "​",
            "style": "IPY_MODEL_bbb8442a1d994758b640ebbbf4523a6d",
            "value": "<div style='padding: 0px; font-size: 16px; color: #0066cc; margin-top: 10px'>A forma padrão de uma equação quadrática é ax² + bx + c = 0, onde a ≠ 0.</div>"
          }
        },
        "f3a3d43b660242fda31f378c1377a9b6": {
          "model_module": "@jupyter-widgets/base",
          "model_name": "LayoutModel",
          "model_module_version": "1.2.0",
          "state": {
            "_model_module": "@jupyter-widgets/base",
            "_model_module_version": "1.2.0",
            "_model_name": "LayoutModel",
            "_view_count": null,
            "_view_module": "@jupyter-widgets/base",
            "_view_module_version": "1.2.0",
            "_view_name": "LayoutView",
            "align_content": null,
            "align_items": null,
            "align_self": null,
            "border": "2px solid #ccc",
            "bottom": null,
            "display": null,
            "flex": null,
            "flex_flow": null,
            "grid_area": null,
            "grid_auto_columns": null,
            "grid_auto_flow": null,
            "grid_auto_rows": null,
            "grid_column": null,
            "grid_gap": null,
            "grid_row": null,
            "grid_template_areas": null,
            "grid_template_columns": null,
            "grid_template_rows": null,
            "height": "200px",
            "justify_content": null,
            "justify_items": null,
            "left": null,
            "margin": "10px 0",
            "max_height": null,
            "max_width": "400px",
            "min_height": null,
            "min_width": null,
            "object_fit": null,
            "object_position": null,
            "order": null,
            "overflow": "auto",
            "overflow_x": null,
            "overflow_y": null,
            "padding": "0px",
            "right": null,
            "top": null,
            "visibility": null,
            "width": null
          }
        },
        "94f465bb59a048dcb2025c5764d29cc9": {
          "model_module": "@jupyter-widgets/base",
          "model_name": "LayoutModel",
          "model_module_version": "1.2.0",
          "state": {
            "_model_module": "@jupyter-widgets/base",
            "_model_module_version": "1.2.0",
            "_model_name": "LayoutModel",
            "_view_count": null,
            "_view_module": "@jupyter-widgets/base",
            "_view_module_version": "1.2.0",
            "_view_name": "LayoutView",
            "align_content": null,
            "align_items": null,
            "align_self": null,
            "border": null,
            "bottom": null,
            "display": null,
            "flex": null,
            "flex_flow": null,
            "grid_area": null,
            "grid_auto_columns": null,
            "grid_auto_flow": null,
            "grid_auto_rows": null,
            "grid_column": null,
            "grid_gap": null,
            "grid_row": null,
            "grid_template_areas": null,
            "grid_template_columns": null,
            "grid_template_rows": null,
            "height": null,
            "justify_content": null,
            "justify_items": null,
            "left": null,
            "margin": null,
            "max_height": null,
            "max_width": null,
            "min_height": null,
            "min_width": null,
            "object_fit": null,
            "object_position": null,
            "order": null,
            "overflow": null,
            "overflow_x": null,
            "overflow_y": null,
            "padding": null,
            "right": null,
            "top": null,
            "visibility": null,
            "width": null
          }
        },
        "01e52abb16144c7cb2cf88ae4600b131": {
          "model_module": "@jupyter-widgets/controls",
          "model_name": "DescriptionStyleModel",
          "model_module_version": "1.5.0",
          "state": {
            "_model_module": "@jupyter-widgets/controls",
            "_model_module_version": "1.5.0",
            "_model_name": "DescriptionStyleModel",
            "_view_count": null,
            "_view_module": "@jupyter-widgets/base",
            "_view_module_version": "1.2.0",
            "_view_name": "StyleView",
            "description_width": ""
          }
        },
        "b7aa61af9d074d83bc4ef52363c9d876": {
          "model_module": "@jupyter-widgets/base",
          "model_name": "LayoutModel",
          "model_module_version": "1.2.0",
          "state": {
            "_model_module": "@jupyter-widgets/base",
            "_model_module_version": "1.2.0",
            "_model_name": "LayoutModel",
            "_view_count": null,
            "_view_module": "@jupyter-widgets/base",
            "_view_module_version": "1.2.0",
            "_view_name": "LayoutView",
            "align_content": null,
            "align_items": null,
            "align_self": null,
            "border": null,
            "bottom": null,
            "display": null,
            "flex": null,
            "flex_flow": null,
            "grid_area": null,
            "grid_auto_columns": null,
            "grid_auto_flow": null,
            "grid_auto_rows": null,
            "grid_column": null,
            "grid_gap": null,
            "grid_row": null,
            "grid_template_areas": null,
            "grid_template_columns": null,
            "grid_template_rows": null,
            "height": null,
            "justify_content": null,
            "justify_items": null,
            "left": null,
            "margin": null,
            "max_height": null,
            "max_width": null,
            "min_height": null,
            "min_width": null,
            "object_fit": null,
            "object_position": null,
            "order": null,
            "overflow": null,
            "overflow_x": null,
            "overflow_y": null,
            "padding": null,
            "right": null,
            "top": null,
            "visibility": null,
            "width": null
          }
        },
        "bbb8442a1d994758b640ebbbf4523a6d": {
          "model_module": "@jupyter-widgets/controls",
          "model_name": "DescriptionStyleModel",
          "model_module_version": "1.5.0",
          "state": {
            "_model_module": "@jupyter-widgets/controls",
            "_model_module_version": "1.5.0",
            "_model_name": "DescriptionStyleModel",
            "_view_count": null,
            "_view_module": "@jupyter-widgets/base",
            "_view_module_version": "1.2.0",
            "_view_name": "StyleView",
            "description_width": ""
          }
        },
        "2e108444cae4433bacb580ca77fcf4d6": {
          "model_module": "@jupyter-widgets/controls",
          "model_name": "HBoxModel",
          "model_module_version": "1.5.0",
          "state": {
            "_dom_classes": [],
            "_model_module": "@jupyter-widgets/controls",
            "_model_module_version": "1.5.0",
            "_model_name": "HBoxModel",
            "_view_count": null,
            "_view_module": "@jupyter-widgets/controls",
            "_view_module_version": "1.5.0",
            "_view_name": "HBoxView",
            "box_style": "",
            "children": [
              "IPY_MODEL_850dbfed89234dcd830ddf146dd23c34",
              "IPY_MODEL_070933f034bb4f7da9996c1aedf93e93",
              "IPY_MODEL_144a2710fa764c2fa2ca42b81fd548dc",
              "IPY_MODEL_e1f88985018c47bd96b5e43b783b75f1"
            ],
            "layout": "IPY_MODEL_04032d395c6d45538b01f8bcf03f1bc7"
          }
        },
        "850dbfed89234dcd830ddf146dd23c34": {
          "model_module": "@jupyter-widgets/controls",
          "model_name": "ButtonModel",
          "model_module_version": "1.5.0",
          "state": {
            "_dom_classes": [],
            "_model_module": "@jupyter-widgets/controls",
            "_model_module_version": "1.5.0",
            "_model_name": "ButtonModel",
            "_view_count": null,
            "_view_module": "@jupyter-widgets/controls",
            "_view_module_version": "1.5.0",
            "_view_name": "ButtonView",
            "button_style": "",
            "description": "Previous",
            "disabled": false,
            "icon": "",
            "layout": "IPY_MODEL_568f88b712554ba9b828cb77fb13e7cd",
            "style": "IPY_MODEL_acec13c9f870487ea233133df84ea01b",
            "tooltip": ""
          }
        },
        "070933f034bb4f7da9996c1aedf93e93": {
          "model_module": "@jupyter-widgets/controls",
          "model_name": "ButtonModel",
          "model_module_version": "1.5.0",
          "state": {
            "_dom_classes": [],
            "_model_module": "@jupyter-widgets/controls",
            "_model_module_version": "1.5.0",
            "_model_name": "ButtonModel",
            "_view_count": null,
            "_view_module": "@jupyter-widgets/controls",
            "_view_module_version": "1.5.0",
            "_view_name": "ButtonView",
            "button_style": "",
            "description": "Next",
            "disabled": false,
            "icon": "",
            "layout": "IPY_MODEL_49a4cc8fa5584271bba025c85a7d75b5",
            "style": "IPY_MODEL_fbbfe0879d6f436792268dd3bc137fd4",
            "tooltip": ""
          }
        },
        "144a2710fa764c2fa2ca42b81fd548dc": {
          "model_module": "@jupyter-widgets/controls",
          "model_name": "ButtonModel",
          "model_module_version": "1.5.0",
          "state": {
            "_dom_classes": [],
            "_model_module": "@jupyter-widgets/controls",
            "_model_module_version": "1.5.0",
            "_model_name": "ButtonModel",
            "_view_count": null,
            "_view_module": "@jupyter-widgets/controls",
            "_view_module_version": "1.5.0",
            "_view_name": "ButtonView",
            "button_style": "",
            "description": "Show Answer",
            "disabled": false,
            "icon": "",
            "layout": "IPY_MODEL_5c7dd53f8fff40e0923eccd9906bd033",
            "style": "IPY_MODEL_4b3d28617b8b49db886be41b8fddf866",
            "tooltip": ""
          }
        },
        "e1f88985018c47bd96b5e43b783b75f1": {
          "model_module": "@jupyter-widgets/controls",
          "model_name": "ButtonModel",
          "model_module_version": "1.5.0",
          "state": {
            "_dom_classes": [],
            "_model_module": "@jupyter-widgets/controls",
            "_model_module_version": "1.5.0",
            "_model_name": "ButtonModel",
            "_view_count": null,
            "_view_module": "@jupyter-widgets/controls",
            "_view_module_version": "1.5.0",
            "_view_name": "ButtonView",
            "button_style": "",
            "description": "Send image to LLM",
            "disabled": false,
            "icon": "",
            "layout": "IPY_MODEL_c52787c565074426b361a1195770b268",
            "style": "IPY_MODEL_9960c3e10a5e4f44b4ee1ad9e4741ae5",
            "tooltip": ""
          }
        },
        "04032d395c6d45538b01f8bcf03f1bc7": {
          "model_module": "@jupyter-widgets/base",
          "model_name": "LayoutModel",
          "model_module_version": "1.2.0",
          "state": {
            "_model_module": "@jupyter-widgets/base",
            "_model_module_version": "1.2.0",
            "_model_name": "LayoutModel",
            "_view_count": null,
            "_view_module": "@jupyter-widgets/base",
            "_view_module_version": "1.2.0",
            "_view_name": "LayoutView",
            "align_content": null,
            "align_items": null,
            "align_self": null,
            "border": null,
            "bottom": null,
            "display": null,
            "flex": null,
            "flex_flow": null,
            "grid_area": null,
            "grid_auto_columns": null,
            "grid_auto_flow": null,
            "grid_auto_rows": null,
            "grid_column": null,
            "grid_gap": null,
            "grid_row": null,
            "grid_template_areas": null,
            "grid_template_columns": null,
            "grid_template_rows": null,
            "height": null,
            "justify_content": null,
            "justify_items": null,
            "left": null,
            "margin": null,
            "max_height": null,
            "max_width": null,
            "min_height": null,
            "min_width": null,
            "object_fit": null,
            "object_position": null,
            "order": null,
            "overflow": null,
            "overflow_x": null,
            "overflow_y": null,
            "padding": null,
            "right": null,
            "top": null,
            "visibility": null,
            "width": null
          }
        },
        "568f88b712554ba9b828cb77fb13e7cd": {
          "model_module": "@jupyter-widgets/base",
          "model_name": "LayoutModel",
          "model_module_version": "1.2.0",
          "state": {
            "_model_module": "@jupyter-widgets/base",
            "_model_module_version": "1.2.0",
            "_model_name": "LayoutModel",
            "_view_count": null,
            "_view_module": "@jupyter-widgets/base",
            "_view_module_version": "1.2.0",
            "_view_name": "LayoutView",
            "align_content": null,
            "align_items": null,
            "align_self": null,
            "border": null,
            "bottom": null,
            "display": null,
            "flex": null,
            "flex_flow": null,
            "grid_area": null,
            "grid_auto_columns": null,
            "grid_auto_flow": null,
            "grid_auto_rows": null,
            "grid_column": null,
            "grid_gap": null,
            "grid_row": null,
            "grid_template_areas": null,
            "grid_template_columns": null,
            "grid_template_rows": null,
            "height": null,
            "justify_content": null,
            "justify_items": null,
            "left": null,
            "margin": null,
            "max_height": null,
            "max_width": null,
            "min_height": null,
            "min_width": null,
            "object_fit": null,
            "object_position": null,
            "order": null,
            "overflow": null,
            "overflow_x": null,
            "overflow_y": null,
            "padding": null,
            "right": null,
            "top": null,
            "visibility": null,
            "width": null
          }
        },
        "acec13c9f870487ea233133df84ea01b": {
          "model_module": "@jupyter-widgets/controls",
          "model_name": "ButtonStyleModel",
          "model_module_version": "1.5.0",
          "state": {
            "_model_module": "@jupyter-widgets/controls",
            "_model_module_version": "1.5.0",
            "_model_name": "ButtonStyleModel",
            "_view_count": null,
            "_view_module": "@jupyter-widgets/base",
            "_view_module_version": "1.2.0",
            "_view_name": "StyleView",
            "button_color": null,
            "font_weight": ""
          }
        },
        "49a4cc8fa5584271bba025c85a7d75b5": {
          "model_module": "@jupyter-widgets/base",
          "model_name": "LayoutModel",
          "model_module_version": "1.2.0",
          "state": {
            "_model_module": "@jupyter-widgets/base",
            "_model_module_version": "1.2.0",
            "_model_name": "LayoutModel",
            "_view_count": null,
            "_view_module": "@jupyter-widgets/base",
            "_view_module_version": "1.2.0",
            "_view_name": "LayoutView",
            "align_content": null,
            "align_items": null,
            "align_self": null,
            "border": null,
            "bottom": null,
            "display": null,
            "flex": null,
            "flex_flow": null,
            "grid_area": null,
            "grid_auto_columns": null,
            "grid_auto_flow": null,
            "grid_auto_rows": null,
            "grid_column": null,
            "grid_gap": null,
            "grid_row": null,
            "grid_template_areas": null,
            "grid_template_columns": null,
            "grid_template_rows": null,
            "height": null,
            "justify_content": null,
            "justify_items": null,
            "left": null,
            "margin": null,
            "max_height": null,
            "max_width": null,
            "min_height": null,
            "min_width": null,
            "object_fit": null,
            "object_position": null,
            "order": null,
            "overflow": null,
            "overflow_x": null,
            "overflow_y": null,
            "padding": null,
            "right": null,
            "top": null,
            "visibility": null,
            "width": null
          }
        },
        "fbbfe0879d6f436792268dd3bc137fd4": {
          "model_module": "@jupyter-widgets/controls",
          "model_name": "ButtonStyleModel",
          "model_module_version": "1.5.0",
          "state": {
            "_model_module": "@jupyter-widgets/controls",
            "_model_module_version": "1.5.0",
            "_model_name": "ButtonStyleModel",
            "_view_count": null,
            "_view_module": "@jupyter-widgets/base",
            "_view_module_version": "1.2.0",
            "_view_name": "StyleView",
            "button_color": null,
            "font_weight": ""
          }
        },
        "5c7dd53f8fff40e0923eccd9906bd033": {
          "model_module": "@jupyter-widgets/base",
          "model_name": "LayoutModel",
          "model_module_version": "1.2.0",
          "state": {
            "_model_module": "@jupyter-widgets/base",
            "_model_module_version": "1.2.0",
            "_model_name": "LayoutModel",
            "_view_count": null,
            "_view_module": "@jupyter-widgets/base",
            "_view_module_version": "1.2.0",
            "_view_name": "LayoutView",
            "align_content": null,
            "align_items": null,
            "align_self": null,
            "border": null,
            "bottom": null,
            "display": null,
            "flex": null,
            "flex_flow": null,
            "grid_area": null,
            "grid_auto_columns": null,
            "grid_auto_flow": null,
            "grid_auto_rows": null,
            "grid_column": null,
            "grid_gap": null,
            "grid_row": null,
            "grid_template_areas": null,
            "grid_template_columns": null,
            "grid_template_rows": null,
            "height": null,
            "justify_content": null,
            "justify_items": null,
            "left": null,
            "margin": null,
            "max_height": null,
            "max_width": null,
            "min_height": null,
            "min_width": null,
            "object_fit": null,
            "object_position": null,
            "order": null,
            "overflow": null,
            "overflow_x": null,
            "overflow_y": null,
            "padding": null,
            "right": null,
            "top": null,
            "visibility": null,
            "width": null
          }
        },
        "4b3d28617b8b49db886be41b8fddf866": {
          "model_module": "@jupyter-widgets/controls",
          "model_name": "ButtonStyleModel",
          "model_module_version": "1.5.0",
          "state": {
            "_model_module": "@jupyter-widgets/controls",
            "_model_module_version": "1.5.0",
            "_model_name": "ButtonStyleModel",
            "_view_count": null,
            "_view_module": "@jupyter-widgets/base",
            "_view_module_version": "1.2.0",
            "_view_name": "StyleView",
            "button_color": null,
            "font_weight": ""
          }
        },
        "c52787c565074426b361a1195770b268": {
          "model_module": "@jupyter-widgets/base",
          "model_name": "LayoutModel",
          "model_module_version": "1.2.0",
          "state": {
            "_model_module": "@jupyter-widgets/base",
            "_model_module_version": "1.2.0",
            "_model_name": "LayoutModel",
            "_view_count": null,
            "_view_module": "@jupyter-widgets/base",
            "_view_module_version": "1.2.0",
            "_view_name": "LayoutView",
            "align_content": null,
            "align_items": null,
            "align_self": null,
            "border": null,
            "bottom": null,
            "display": null,
            "flex": null,
            "flex_flow": null,
            "grid_area": null,
            "grid_auto_columns": null,
            "grid_auto_flow": null,
            "grid_auto_rows": null,
            "grid_column": null,
            "grid_gap": null,
            "grid_row": null,
            "grid_template_areas": null,
            "grid_template_columns": null,
            "grid_template_rows": null,
            "height": null,
            "justify_content": null,
            "justify_items": null,
            "left": null,
            "margin": null,
            "max_height": null,
            "max_width": null,
            "min_height": null,
            "min_width": null,
            "object_fit": null,
            "object_position": null,
            "order": null,
            "overflow": null,
            "overflow_x": null,
            "overflow_y": null,
            "padding": null,
            "right": null,
            "top": null,
            "visibility": null,
            "width": null
          }
        },
        "9960c3e10a5e4f44b4ee1ad9e4741ae5": {
          "model_module": "@jupyter-widgets/controls",
          "model_name": "ButtonStyleModel",
          "model_module_version": "1.5.0",
          "state": {
            "_model_module": "@jupyter-widgets/controls",
            "_model_module_version": "1.5.0",
            "_model_name": "ButtonStyleModel",
            "_view_count": null,
            "_view_module": "@jupyter-widgets/base",
            "_view_module_version": "1.2.0",
            "_view_name": "StyleView",
            "button_color": null,
            "font_weight": ""
          }
        },
        "5e0fa35a3b4243b1bbece9fb7f7d86ea": {
          "model_module": "@jupyter-widgets/controls",
          "model_name": "VBoxModel",
          "model_module_version": "1.5.0",
          "state": {
            "_dom_classes": [],
            "_model_module": "@jupyter-widgets/controls",
            "_model_module_version": "1.5.0",
            "_model_name": "VBoxModel",
            "_view_count": null,
            "_view_module": "@jupyter-widgets/controls",
            "_view_module_version": "1.5.0",
            "_view_name": "VBoxView",
            "box_style": "",
            "children": [
              "IPY_MODEL_6300a9a3d72e4d079e6400e0120ab2dc",
              "IPY_MODEL_e1c4e9d01b7a4bef9da9f2fb520307cf"
            ],
            "layout": "IPY_MODEL_99b07047771448b2b3d8778889530186"
          }
        },
        "6300a9a3d72e4d079e6400e0120ab2dc": {
          "model_module": "@jupyter-widgets/controls",
          "model_name": "TextModel",
          "model_module_version": "1.5.0",
          "state": {
            "_dom_classes": [],
            "_model_module": "@jupyter-widgets/controls",
            "_model_module_version": "1.5.0",
            "_model_name": "TextModel",
            "_view_count": null,
            "_view_module": "@jupyter-widgets/controls",
            "_view_module_version": "1.5.0",
            "_view_name": "TextView",
            "continuous_update": true,
            "description": "Image URL:",
            "description_tooltip": null,
            "disabled": false,
            "layout": "IPY_MODEL_e9d67018eaca4198a937ef11c86b86c2",
            "placeholder": "Enter image URL",
            "style": "IPY_MODEL_a1c14bc4da6e40f28dc33321d29fad08",
            "value": "https://i.postimg.cc/HWR5GhLZ/Whats-App-Image-2024-09-07-at-22-21-29.jpg"
          }
        },
        "e1c4e9d01b7a4bef9da9f2fb520307cf": {
          "model_module": "@jupyter-widgets/controls",
          "model_name": "HTMLModel",
          "model_module_version": "1.5.0",
          "state": {
            "_dom_classes": [],
            "_model_module": "@jupyter-widgets/controls",
            "_model_module_version": "1.5.0",
            "_model_name": "HTMLModel",
            "_view_count": null,
            "_view_module": "@jupyter-widgets/controls",
            "_view_module_version": "1.5.0",
            "_view_name": "HTMLView",
            "description": "",
            "description_tooltip": null,
            "layout": "IPY_MODEL_7e7241db1e6b4bfab03119b4fa03377b",
            "placeholder": "​",
            "style": "IPY_MODEL_b20d24e8266d4ab4b708df165c01c189",
            "value": "<h1>Resposta do aluno: Correta!</h1>\n\n<p>O aluno demonstrou compreender a forma padrão de uma equação quadrática. A resposta está correta, incluindo a especificação de que <em>a</em> não pode ser igual a zero.</p> \n"
          }
        },
        "99b07047771448b2b3d8778889530186": {
          "model_module": "@jupyter-widgets/base",
          "model_name": "LayoutModel",
          "model_module_version": "1.2.0",
          "state": {
            "_model_module": "@jupyter-widgets/base",
            "_model_module_version": "1.2.0",
            "_model_name": "LayoutModel",
            "_view_count": null,
            "_view_module": "@jupyter-widgets/base",
            "_view_module_version": "1.2.0",
            "_view_name": "LayoutView",
            "align_content": null,
            "align_items": null,
            "align_self": null,
            "border": null,
            "bottom": null,
            "display": null,
            "flex": null,
            "flex_flow": null,
            "grid_area": null,
            "grid_auto_columns": null,
            "grid_auto_flow": null,
            "grid_auto_rows": null,
            "grid_column": null,
            "grid_gap": null,
            "grid_row": null,
            "grid_template_areas": null,
            "grid_template_columns": null,
            "grid_template_rows": null,
            "height": null,
            "justify_content": null,
            "justify_items": null,
            "left": null,
            "margin": null,
            "max_height": null,
            "max_width": null,
            "min_height": null,
            "min_width": null,
            "object_fit": null,
            "object_position": null,
            "order": null,
            "overflow": null,
            "overflow_x": null,
            "overflow_y": null,
            "padding": null,
            "right": null,
            "top": null,
            "visibility": null,
            "width": null
          }
        },
        "e9d67018eaca4198a937ef11c86b86c2": {
          "model_module": "@jupyter-widgets/base",
          "model_name": "LayoutModel",
          "model_module_version": "1.2.0",
          "state": {
            "_model_module": "@jupyter-widgets/base",
            "_model_module_version": "1.2.0",
            "_model_name": "LayoutModel",
            "_view_count": null,
            "_view_module": "@jupyter-widgets/base",
            "_view_module_version": "1.2.0",
            "_view_name": "LayoutView",
            "align_content": null,
            "align_items": null,
            "align_self": null,
            "border": null,
            "bottom": null,
            "display": null,
            "flex": null,
            "flex_flow": null,
            "grid_area": null,
            "grid_auto_columns": null,
            "grid_auto_flow": null,
            "grid_auto_rows": null,
            "grid_column": null,
            "grid_gap": null,
            "grid_row": null,
            "grid_template_areas": null,
            "grid_template_columns": null,
            "grid_template_rows": null,
            "height": null,
            "justify_content": null,
            "justify_items": null,
            "left": null,
            "margin": null,
            "max_height": null,
            "max_width": null,
            "min_height": null,
            "min_width": null,
            "object_fit": null,
            "object_position": null,
            "order": null,
            "overflow": null,
            "overflow_x": null,
            "overflow_y": null,
            "padding": null,
            "right": null,
            "top": null,
            "visibility": null,
            "width": null
          }
        },
        "a1c14bc4da6e40f28dc33321d29fad08": {
          "model_module": "@jupyter-widgets/controls",
          "model_name": "DescriptionStyleModel",
          "model_module_version": "1.5.0",
          "state": {
            "_model_module": "@jupyter-widgets/controls",
            "_model_module_version": "1.5.0",
            "_model_name": "DescriptionStyleModel",
            "_view_count": null,
            "_view_module": "@jupyter-widgets/base",
            "_view_module_version": "1.2.0",
            "_view_name": "StyleView",
            "description_width": ""
          }
        },
        "7e7241db1e6b4bfab03119b4fa03377b": {
          "model_module": "@jupyter-widgets/base",
          "model_name": "LayoutModel",
          "model_module_version": "1.2.0",
          "state": {
            "_model_module": "@jupyter-widgets/base",
            "_model_module_version": "1.2.0",
            "_model_name": "LayoutModel",
            "_view_count": null,
            "_view_module": "@jupyter-widgets/base",
            "_view_module_version": "1.2.0",
            "_view_name": "LayoutView",
            "align_content": null,
            "align_items": null,
            "align_self": null,
            "border": null,
            "bottom": null,
            "display": null,
            "flex": null,
            "flex_flow": null,
            "grid_area": null,
            "grid_auto_columns": null,
            "grid_auto_flow": null,
            "grid_auto_rows": null,
            "grid_column": null,
            "grid_gap": null,
            "grid_row": null,
            "grid_template_areas": null,
            "grid_template_columns": null,
            "grid_template_rows": null,
            "height": null,
            "justify_content": null,
            "justify_items": null,
            "left": null,
            "margin": null,
            "max_height": null,
            "max_width": null,
            "min_height": null,
            "min_width": null,
            "object_fit": null,
            "object_position": null,
            "order": null,
            "overflow": null,
            "overflow_x": null,
            "overflow_y": null,
            "padding": null,
            "right": null,
            "top": null,
            "visibility": null,
            "width": null
          }
        },
        "b20d24e8266d4ab4b708df165c01c189": {
          "model_module": "@jupyter-widgets/controls",
          "model_name": "DescriptionStyleModel",
          "model_module_version": "1.5.0",
          "state": {
            "_model_module": "@jupyter-widgets/controls",
            "_model_module_version": "1.5.0",
            "_model_name": "DescriptionStyleModel",
            "_view_count": null,
            "_view_module": "@jupyter-widgets/base",
            "_view_module_version": "1.2.0",
            "_view_name": "StyleView",
            "description_width": ""
          }
        }
      }
    }
  },
  "cells": [
    {
      "cell_type": "markdown",
      "metadata": {
        "id": "Y6QILOdpOjwv"
      },
      "source": [
        "# **Processamento de Linguagem Natural [2024-Q2]**\n",
        "Prof. Alexandre Donizeti Alves"
      ]
    },
    {
      "cell_type": "markdown",
      "metadata": {
        "id": "8m67OOx9MX_3"
      },
      "source": [
        "### **PROJETO PRÁTICO** [LangChain + Grandes Modelos de Linguagem + API]\n"
      ]
    },
    {
      "cell_type": "markdown",
      "metadata": {
        "id": "5Gk0nHKabBT-"
      },
      "source": [
        "O **PROJETO PRÁTICO** deve ser feito utilizando o **Google Colab** com uma conta sua vinculada ao Gmail. O link do seu notebook, armazenado no Google Drive, o link de um repositório no GitHub e o link de um vídeo do projeto em execução detalhando os principais resultados da atividade, devem ser enviados usando o seguinte formulário:\n",
        "\n",
        "> Adicionar aspas\n",
        "\n",
        "\n",
        "\n",
        "> https://forms.gle/D4gLqP1iGgyn2hbH8\n",
        "\n",
        "\n",
        "**IMPORTANTE**: A submissão deve ser feita até o dia **08/09 (domingo)** APENAS POR UM INTEGRANTE DA EQUIPE, até às 23h59. Por favor, lembre-se de dar permissão de ACESSO IRRESTRITO para o professor da disciplina de PLN."
      ]
    },
    {
      "cell_type": "markdown",
      "metadata": {
        "id": "D7hJlilKM485"
      },
      "source": [
        "### **EQUIPE**\n",
        "\n",
        "---"
      ]
    },
    {
      "cell_type": "markdown",
      "source": [
        "**POR FAVOR, PREENCHER OS INTEGRANDES DA SUA EQUIPE:**\n",
        "\n",
        "\n",
        "**Integrante 01:**\n",
        "\n",
        "`Lucas Medeiros da Silva | RA: 11202130277`\n",
        "\n",
        "**Integrante 02:**\n",
        "\n",
        "`George Salvino de Souza Junior | RA: 11201720464`"
      ],
      "metadata": {
        "id": "tnIArN0QY-Ek"
      }
    },
    {
      "cell_type": "markdown",
      "source": [
        "### **GRANDE MODELO DE LINGUAGEM (*Large Language Model - LLM*)**\n",
        "\n",
        "---"
      ],
      "metadata": {
        "id": "VbYD2mw8y4CN"
      }
    },
    {
      "cell_type": "markdown",
      "source": [
        "Cada equipe deve selecionar um Grande Modelo de Linguagem (*Large Language Model - LMM*). Cada modelo pode ser escolhido por até 5 equipes.\n",
        "\n"
      ],
      "metadata": {
        "id": "_UlblxFxzDV-"
      }
    },
    {
      "cell_type": "markdown",
      "source": [
        "Por favor, informe os dados do LLM selecionada:\n",
        "\n",
        ">\n",
        "\n",
        "\n",
        "**LLM**: Google Gemini\n",
        "\n",
        ">\n",
        "\n",
        "**Link para a documentação oficial**: https://ai.google.dev/gemini-api/docs\n",
        "\n"
      ],
      "metadata": {
        "id": "a6AkE6iW0c3o"
      }
    },
    {
      "cell_type": "markdown",
      "source": [
        "### **API**\n",
        "---"
      ],
      "metadata": {
        "id": "6yExhaebs-nD"
      }
    },
    {
      "cell_type": "markdown",
      "source": [
        "Por favor, informe os dados da API selecionada:\n",
        "\n",
        "**API**: Wikipedia API\n",
        "\n",
        "**Site oficial**: https://github.com/martin-majlis/Wikipedia-API/\n",
        "\n",
        "**Link para a documentação oficial**: https://pypi.org/project/Wikipedia-API/\n",
        "\n",
        "\n",
        "\n",
        "\n"
      ],
      "metadata": {
        "id": "DjJM_qhEZRy6"
      }
    },
    {
      "cell_type": "markdown",
      "source": [
        "**IMPORTANTE**: cada **API** pode ser usada por até 4 equipes."
      ],
      "metadata": {
        "id": "bTODq98Myt_u"
      }
    },
    {
      "cell_type": "markdown",
      "metadata": {
        "id": "EtjgWQRzNphL"
      },
      "source": [
        "### **DESCRIÇÃO**\n",
        "---"
      ]
    },
    {
      "cell_type": "markdown",
      "source": [
        "Implementar um `notebook` no `Google Colab` que faça uso do framework **`LangChain`** (obrigatório) e de um **LLM** aplicando, no mínimo, DUAS técnicas de PLN. As técnicas podem ser aplicada em qualquer córpus obtido a partir de uma **API** ou a partir de uma página Web.\n",
        "\n",
        "O **LLM** e a **API** selecionados devem ser informados na seguinte planilha:\n",
        "\n",
        "> https://docs.google.com/spreadsheets/d/1iIUZcwnywO7RuF6VEJ8Rx9NDT1cwteyvsnkhYr0NWtU/edit?usp=sharing\n",
        "\n",
        ">\n",
        "As seguintes técnicas de PLN podem ser usadas:\n",
        "\n",
        "*   Correção Gramatical\n",
        "*   Classificação de Textos\n",
        "*   Análise de Sentimentos\n",
        "*   Detecção de Emoções\n",
        "*   Extração de Palavras-chave\n",
        "*   Tradução de Textos\n",
        "*   Sumarização de Textos\n",
        "*   Similaridade de Textos\n",
        "*   Reconhecimento de Entidades Nomeadas\n",
        "*   Sistemas de Perguntas e Respostas\n",
        ">\n",
        "\n",
        "**IMPORTANTE:** É obrigatório usar o e-mail da UFABC.\n"
      ],
      "metadata": {
        "id": "fXTwkiiGs2BV"
      }
    },
    {
      "cell_type": "markdown",
      "source": [
        "### **CRITÉRIOS DE AVALIAÇÃO**\n",
        "---\n"
      ],
      "metadata": {
        "id": "gWsBYQNtxmum"
      }
    },
    {
      "cell_type": "markdown",
      "source": [
        "Serão considerados como critérios de avaliação os seguintes pontos:\n",
        "\n",
        "* Uso do framework **`LangChain`**.\n",
        "\n",
        "* Escolha e uso de um **LLM**.\n",
        "\n",
        "* Escolha e uso de uma **API**.\n",
        "\n",
        "* Vídeo (5 a 10 minutos).\n",
        "\n",
        "* Criatividade no uso do framework **`LangChain`** em conjunto com o **LLM** e a **API**.\n",
        "\n",
        "\n"
      ],
      "metadata": {
        "id": "5iHdx4BXYruQ"
      }
    },
    {
      "cell_type": "markdown",
      "source": [
        "**IMPORTANTE**: todo o código do notebook deve ser executado. Código sem execução não será considerado."
      ],
      "metadata": {
        "id": "LhwdrMp123Xx"
      }
    },
    {
      "cell_type": "markdown",
      "source": [
        "### **IMPLEMENTAÇÃO**\n",
        "---"
      ],
      "metadata": {
        "id": "nw09lujGvfjc"
      }
    },
    {
      "cell_type": "code",
      "source": [
        "!pip install -qU ipywidgets==7.6.3\n",
        "!pip install -qU langchain-google-genai\n",
        "!pip install -qU langchain\n",
        "!pip install -qU wikipedia-api\n",
        "!pip install -qU beautifulsoup4"
      ],
      "metadata": {
        "id": "RyUailD5vi9E"
      },
      "execution_count": null,
      "outputs": []
    },
    {
      "cell_type": "code",
      "source": [
        "from google.colab import userdata\n",
        "from langchain_google_genai import ChatGoogleGenerativeAI\n",
        "\n",
        "modelo = ChatGoogleGenerativeAI(model='gemini-1.5-pro', api_key=userdata.get('GOOGLE_API_KEY'))"
      ],
      "metadata": {
        "id": "5Tk7i8HRWGuV"
      },
      "execution_count": null,
      "outputs": []
    },
    {
      "cell_type": "code",
      "source": [
        "import wikipediaapi\n",
        "\n",
        "wiki_html = wikipediaapi.Wikipedia(user_agent='ProjetoPLN',\n",
        "                                   language='en',\n",
        "                                   extract_format=wikipediaapi.ExtractFormat.HTML)\n",
        "\n",
        "assunto = input(\"Write the subject you want to create questions from: \")\n",
        "\n",
        "page_py = wiki_html.page(assunto)\n",
        "\n",
        "while page_py.exists() != True:\n",
        "    assunto = input(\"The page for this subject doesn't exist, please try to write again: \")\n",
        "    page_py = wiki_html.page(assunto)"
      ],
      "metadata": {
        "colab": {
          "base_uri": "https://localhost:8080/"
        },
        "id": "d1wnEgc1WSlu",
        "outputId": "37cf7703-729a-41ee-d95e-12026f9fd736"
      },
      "execution_count": null,
      "outputs": [
        {
          "name": "stdout",
          "output_type": "stream",
          "text": [
            "Write the subject you want to create questions from: Quadratic equations\n"
          ]
        }
      ]
    },
    {
      "cell_type": "code",
      "source": [
        "from bs4 import BeautifulSoup\n",
        "\n",
        "soup = BeautifulSoup(page_py.text, 'html.parser')\n",
        "soup.get_text()"
      ],
      "metadata": {
        "colab": {
          "base_uri": "https://localhost:8080/",
          "height": 105
        },
        "id": "WXG--woIWWgw",
        "outputId": "088350a4-371b-42a1-972d-6f5ede55b8ca"
      },
      "execution_count": null,
      "outputs": [
        {
          "output_type": "execute_result",
          "data": {
            "text/plain": [
              "'In mathematics, a quadratic equation (from Latin  quadratus\\xa0\\'square\\') is an equation that can be rearranged in standard form as\\n\\n\\n\\n\\na\\n\\nx\\n\\n2\\n\\n\\n+\\nb\\nx\\n+\\nc\\n=\\n0\\n\\n,\\n\\n\\n{\\\\displaystyle ax^{2}+bx+c=0\\\\,,}\\n\\n\\nwhere x represents an unknown value, and a, b, and c represent known numbers, where a ≠ 0. (If a = 0 and b ≠ 0 then the equation is linear, not quadratic.) The numbers a, b, and c are the coefficients of the equation and may be distinguished by respectively calling them, the quadratic coefficient, the linear coefficient and the constant coefficient or free term.\\nThe values of x that satisfy the equation are called solutions of the equation, and roots or zeros of the expression on its left-hand side. A quadratic equation has at most two solutions. If there is only one solution, one says that it is a double root. If all the coefficients are real numbers, there are either two real solutions, or a single real double root, or two complex solutions that are complex conjugates of each other. A quadratic equation always has two roots, if complex roots are included; and a double root is counted for two. A quadratic equation can be factored into an equivalent equation \\n\\n\\n\\n\\na\\n\\nx\\n\\n2\\n\\n\\n+\\nb\\nx\\n+\\nc\\n=\\na\\n(\\nx\\n−\\nr\\n)\\n(\\nx\\n−\\ns\\n)\\n=\\n0\\n\\n\\n{\\\\displaystyle ax^{2}+bx+c=a(x-r)(x-s)=0}\\n\\n\\nwhere r and s are the solutions for x. \\nThe quadratic formula\\n\\n\\n\\n\\nx\\n=\\n\\n\\n\\n−\\nb\\n±\\n\\n\\n\\nb\\n\\n2\\n\\n\\n−\\n4\\na\\nc\\n\\n\\n\\n\\n2\\na\\n\\n\\n\\n\\n\\n{\\\\displaystyle x={\\\\frac {-b\\\\pm {\\\\sqrt {b^{2}-4ac}}}{2a}}}\\n\\n\\nexpresses the solutions in terms of a, b, and c. Completing the square is one of several ways for deriving the formula.\\nSolutions to problems that can be expressed in terms of quadratic equations were known as early as 2000 BC.\\nBecause the quadratic equation involves only one unknown, it is called \"univariate\". The quadratic equation contains only powers of x that are non-negative integers, and therefore it is a polynomial equation. In particular, it is a second-degree polynomial equation, since the greatest power is two.\\n\\nSolving the quadratic equation\\nA quadratic equation with real or complex coefficients has two solutions, called roots. These two solutions may or may not be distinct, and they may or may not be real.\\n\\nFactoring by inspection\\nIt may be possible to express a quadratic equation ax2 + bx + c = 0 as a product (px + q)(rx + s) = 0. In some cases, it is possible, by simple inspection, to determine values of p, q, r, and s that make the two forms equivalent to one another. If the quadratic equation is written in the second form, then the \"Zero Factor Property\" states that the quadratic equation is satisfied if px + q = 0 or rx + s = 0. Solving these two linear equations provides the roots of the quadratic.\\nFor most students, factoring by inspection is the first method of solving quadratic equations to which they are exposed.:\\u200a202–207\\u200a If one is given a quadratic equation in the form x2 + bx + c = 0, the sought factorization has the form (x + q)(x + s), and one has to find two numbers q and s that add up to  b and whose product is c (this is sometimes called \"Vieta\\'s rule\" and is related to Vieta\\'s formulas). As an example, x2 + 5x + 6 factors as (x + 3)(x + 2). The more general case where a does not equal 1 can require a considerable effort in trial and error guess-and-check, assuming that it can be factored at all by inspection.\\nExcept for special cases such as where b = 0 or c = 0, factoring by inspection only works for quadratic equations that have rational roots. This means that the great majority of quadratic equations that arise in practical applications cannot be solved by factoring by inspection.:\\u200a207\\u200a\\n\\nCompleting the square\\n\\nThe process of completing the square makes use of the algebraic identity\\n\\n\\n\\n\\n\\nx\\n\\n2\\n\\n\\n+\\n2\\nh\\nx\\n+\\n\\nh\\n\\n2\\n\\n\\n=\\n(\\nx\\n+\\nh\\n\\n)\\n\\n2\\n\\n\\n,\\n\\n\\n{\\\\displaystyle x^{2}+2hx+h^{2}=(x+h)^{2},}\\n\\n\\nwhich represents a well-defined algorithm that can be used to solve any quadratic equation.:\\u200a207\\u200a Starting with a quadratic equation in standard form, ax2 + bx + c = 0\\n\\nDivide each side by a, the coefficient of the squared term.\\nSubtract the constant term c/a from both sides.\\nAdd the square of one-half of b/a, the coefficient of x, to both sides. This \"completes the square\", converting the left side into a perfect square.\\nWrite the left side as a square and simplify the right side if necessary.\\nProduce two linear equations by equating the square root of the left side with the positive and negative square roots of the right side.\\nSolve each of the two linear equations.\\nWe illustrate use of this algorithm by solving 2x2 + 4x − 4 = 0\\n\\n\\n\\n\\n2\\n\\nx\\n\\n2\\n\\n\\n+\\n4\\nx\\n−\\n4\\n=\\n0\\n\\n\\n{\\\\displaystyle 2x^{2}+4x-4=0}\\n\\n\\n\\n\\n\\n\\n\\xa0\\n\\nx\\n\\n2\\n\\n\\n+\\n2\\nx\\n−\\n2\\n=\\n0\\n\\n\\n{\\\\displaystyle \\\\ x^{2}+2x-2=0}\\n\\n\\n\\n\\n\\n\\n\\xa0\\n\\nx\\n\\n2\\n\\n\\n+\\n2\\nx\\n=\\n2\\n\\n\\n{\\\\displaystyle \\\\ x^{2}+2x=2}\\n\\n\\n\\n\\n\\n\\n\\xa0\\n\\nx\\n\\n2\\n\\n\\n+\\n2\\nx\\n+\\n1\\n=\\n2\\n+\\n1\\n\\n\\n{\\\\displaystyle \\\\ x^{2}+2x+1=2+1}\\n\\n\\n\\n\\n\\n\\n\\n\\n(\\n\\nx\\n+\\n1\\n\\n)\\n\\n\\n2\\n\\n\\n=\\n3\\n\\n\\n{\\\\displaystyle \\\\left(x+1\\\\right)^{2}=3}\\n\\n\\n\\n\\n\\n\\n\\xa0\\nx\\n+\\n1\\n=\\n±\\n\\n\\n3\\n\\n\\n\\n\\n{\\\\displaystyle \\\\ x+1=\\\\pm {\\\\sqrt {3}}}\\n\\n\\n\\n\\n\\n\\n\\xa0\\nx\\n=\\n−\\n1\\n±\\n\\n\\n3\\n\\n\\n\\n\\n{\\\\displaystyle \\\\ x=-1\\\\pm {\\\\sqrt {3}}}\\n\\n\\nThe plus–minus symbol \"±\" indicates that both x = −1 + √3 and x = −1 − √3 are solutions of the quadratic equation.\\n\\nQuadratic formula and its derivation\\n\\nCompleting the square can be used to derive a general formula for solving quadratic equations, called the quadratic formula. The mathematical proof will now be briefly summarized.  It can easily be seen, by polynomial expansion, that the following equation is equivalent to the quadratic equation:\\n\\n\\n\\n\\n\\n\\n(\\n\\nx\\n+\\n\\n\\nb\\n\\n2\\na\\n\\n\\n\\n\\n)\\n\\n\\n2\\n\\n\\n=\\n\\n\\n\\n\\nb\\n\\n2\\n\\n\\n−\\n4\\na\\nc\\n\\n\\n4\\n\\na\\n\\n2\\n\\n\\n\\n\\n\\n.\\n\\n\\n{\\\\displaystyle \\\\left(x+{\\\\frac {b}{2a}}\\\\right)^{2}={\\\\frac {b^{2}-4ac}{4a^{2}}}.}\\n\\n\\nTaking the square root of both sides, and isolating x, gives:\\n\\n\\n\\n\\nx\\n=\\n\\n\\n\\n−\\nb\\n±\\n\\n\\n\\nb\\n\\n2\\n\\n\\n−\\n4\\na\\nc\\n\\n\\n\\n\\n2\\na\\n\\n\\n\\n.\\n\\n\\n{\\\\displaystyle x={\\\\frac {-b\\\\pm {\\\\sqrt {b^{2}-4ac}}}{2a}}.}\\n\\n\\nSome sources, particularly older ones, use alternative parameterizations of the quadratic equation such as ax2 + 2bx + c = 0 or ax2 − 2bx + c = 0\\xa0, where b has a magnitude one half of the more common one, possibly with opposite sign. These result in slightly different forms for the solution, but are otherwise equivalent.\\nA number of alternative derivations can be found in the literature.  These proofs are simpler than the standard completing the square method, represent interesting applications of other frequently used techniques in algebra, or offer insight into other areas of mathematics.\\nA lesser known quadratic formula, as used in Muller\\'s method, provides the same roots via the equation\\n\\n\\n\\n\\nx\\n=\\n\\n\\n\\n2\\nc\\n\\n\\n−\\nb\\n±\\n\\n\\n\\nb\\n\\n2\\n\\n\\n−\\n4\\na\\nc\\n\\n\\n\\n\\n\\n.\\n\\n\\n{\\\\displaystyle x={\\\\frac {2c}{-b\\\\pm {\\\\sqrt {b^{2}-4ac}}}}.}\\n\\n \\nThis can be deduced from the standard quadratic formula by Vieta\\'s formulas, which assert that the product of the roots is c/a. It also follows from dividing the quadratic equation by \\n\\n\\n\\n\\nx\\n\\n2\\n\\n\\n\\n\\n{\\\\displaystyle x^{2}}\\n\\n giving \\n\\n\\n\\nc\\n\\nx\\n\\n−\\n2\\n\\n\\n+\\nb\\n\\nx\\n\\n−\\n1\\n\\n\\n+\\na\\n=\\n0\\n,\\n\\n\\n{\\\\displaystyle cx^{-2}+bx^{-1}+a=0,}\\n\\n solving this for \\n\\n\\n\\n\\nx\\n\\n−\\n1\\n\\n\\n,\\n\\n\\n{\\\\displaystyle x^{-1},}\\n\\n and then inverting.\\nOne property of this form is that it yields one valid root when a = 0, while the other root contains division by zero, because when a = 0, the quadratic equation becomes a linear equation, which has one root. By contrast, in this case, the more common formula has a division by zero for one root and an indeterminate form 0/0 for the other root. On the other hand, when c = 0, the more common formula yields two correct roots whereas this form yields the zero root and an indeterminate form 0/0.\\nWhen neither a nor c is zero, the equality between the standard quadratic formula and Muller\\'s method,\\n\\n\\n\\n\\n\\n\\n\\n2\\nc\\n\\n\\n−\\nb\\n−\\n\\n\\n\\nb\\n\\n2\\n\\n\\n−\\n4\\na\\nc\\n\\n\\n\\n\\n\\n=\\n\\n\\n\\n−\\nb\\n+\\n\\n\\n\\nb\\n\\n2\\n\\n\\n−\\n4\\na\\nc\\n\\n\\n\\n\\n2\\na\\n\\n\\n\\n\\n,\\n\\n\\n{\\\\displaystyle {\\\\frac {2c}{-b-{\\\\sqrt {b^{2}-4ac}}}}={\\\\frac {-b+{\\\\sqrt {b^{2}-4ac}}}{2a}}\\\\,,}\\n\\n\\ncan be verified by cross multiplication, and similarly for the other choice of signs.\\n\\nReduced quadratic equation\\nIt is sometimes convenient to reduce a quadratic equation so that its leading coefficient is one. This is done by dividing both sides by a, which is always possible since a is non-zero.  This produces the reduced quadratic equation:\\n\\n\\n\\n\\n\\nx\\n\\n2\\n\\n\\n+\\np\\nx\\n+\\nq\\n=\\n0\\n,\\n\\n\\n{\\\\displaystyle x^{2}+px+q=0,}\\n\\n\\nwhere p = b/a and q = c/a. This monic polynomial equation has the same solutions as the original.\\nThe quadratic formula for the solutions of the reduced quadratic equation, written in terms of its coefficients, is\\n\\n\\n\\n\\nx\\n=\\n−\\n\\n\\np\\n2\\n\\n\\n±\\n\\n\\n\\n\\n(\\n\\n\\np\\n2\\n\\n\\n)\\n\\n\\n2\\n\\n\\n−\\nq\\n\\n\\n\\n.\\n\\n\\n{\\\\displaystyle x=-{\\\\frac {p}{2}}\\\\pm {\\\\sqrt {\\\\left({\\\\frac {p}{2}}\\\\right)^{2}-q}}\\\\,.}\\n\\n\\n\\nDiscriminant\\nIn the quadratic formula, the expression underneath the square root sign is called the discriminant of the quadratic equation, and is often represented using an upper case D or an upper case Greek delta:\\n\\n\\n\\n\\nΔ\\n=\\n\\nb\\n\\n2\\n\\n\\n−\\n4\\na\\nc\\n.\\n\\n\\n{\\\\displaystyle \\\\Delta =b^{2}-4ac.}\\n\\n\\nA quadratic equation with real coefficients can have either one or two distinct real roots, or two distinct complex roots. In this case the discriminant determines the number and nature of the roots. There are three cases:\\n\\nIf the discriminant is positive, then there are two distinct roots \\n\\n\\n\\n\\n\\n\\n−\\nb\\n+\\n\\n\\nΔ\\n\\n\\n\\n\\n2\\na\\n\\n\\n\\n\\n\\nand\\n\\n\\n\\n\\n\\n−\\nb\\n−\\n\\n\\nΔ\\n\\n\\n\\n\\n2\\na\\n\\n\\n\\n,\\n\\n\\n{\\\\displaystyle {\\\\frac {-b+{\\\\sqrt {\\\\Delta }}}{2a}}\\\\quad {\\\\text{and}}\\\\quad {\\\\frac {-b-{\\\\sqrt {\\\\Delta }}}{2a}},}\\n\\n both of which are real numbers. For quadratic equations with rational coefficients, if the discriminant is a square number, then the roots are rational—in other cases they may be quadratic irrationals.\\nIf the discriminant is zero, then there is exactly one real root \\n\\n\\n\\n−\\n\\n\\nb\\n\\n2\\na\\n\\n\\n\\n,\\n\\n\\n{\\\\displaystyle -{\\\\frac {b}{2a}},}\\n\\n sometimes called a repeated or double root or two equal roots.\\nIf the discriminant is negative, then there are no real roots. Rather, there are two distinct (non-real) complex roots\\n\\n\\n\\n−\\n\\n\\nb\\n\\n2\\na\\n\\n\\n\\n+\\ni\\n\\n\\n\\n−\\nΔ\\n\\n\\n2\\na\\n\\n\\n\\n\\n\\nand\\n\\n\\n−\\n\\n\\nb\\n\\n2\\na\\n\\n\\n\\n−\\ni\\n\\n\\n\\n−\\nΔ\\n\\n\\n2\\na\\n\\n\\n\\n,\\n\\n\\n{\\\\displaystyle -{\\\\frac {b}{2a}}+i{\\\\frac {\\\\sqrt {-\\\\Delta }}{2a}}\\\\quad {\\\\text{and}}\\\\quad -{\\\\frac {b}{2a}}-i{\\\\frac {\\\\sqrt {-\\\\Delta }}{2a}},}\\n\\n which are complex conjugates of each other. In these expressions i is the imaginary unit.\\nThus the roots are distinct if and only if the discriminant is non-zero, and the roots are real if and only if the discriminant is non-negative.\\n\\nGeometric interpretation\\nThe function f(x) = ax2 + bx + c is a quadratic function. The graph of any quadratic function has the same general shape, which is called a parabola. The location and size of the parabola, and how it opens, depend on the values of a, b, and c. If a > 0, the parabola has a minimum point and opens upward. If a < 0, the parabola has a maximum point and opens downward. The extreme point of the parabola, whether minimum or maximum, corresponds to its vertex. The x-coordinate of the vertex will be located at \\n\\n\\n\\n\\nx\\n=\\n\\n\\n\\n\\n−\\nb\\n\\n\\n2\\na\\n\\n\\n\\n\\n\\n\\n\\n{\\\\displaystyle \\\\scriptstyle x={\\\\tfrac {-b}{2a}}}\\n\\n, and the y-coordinate of the vertex may be found by substituting this x-value into the function. The y-intercept is located at the point (0, c).\\nThe solutions of the quadratic equation ax2 + bx + c = 0 correspond to the roots of the function f(x) = ax2 + bx + c, since they are the values of x for which f(x) = 0. If a, b, and c are real numbers and the domain of f is the set of real numbers, then the roots of f are exactly the x-coordinates of the points where the graph touches the x-axis. If the discriminant is positive, the graph touches the x-axis at two points; if zero, the graph touches at one point; and if negative, the graph does not touch the x-axis.\\n\\nQuadratic factorization\\nThe term\\n\\n\\n\\n\\nx\\n−\\nr\\n\\n\\n{\\\\displaystyle x-r}\\n\\n\\nis a factor of the polynomial\\n\\n\\n\\n\\na\\n\\nx\\n\\n2\\n\\n\\n+\\nb\\nx\\n+\\nc\\n\\n\\n{\\\\displaystyle ax^{2}+bx+c}\\n\\n\\nif and only if r is a root of the quadratic equation\\n\\n\\n\\n\\na\\n\\nx\\n\\n2\\n\\n\\n+\\nb\\nx\\n+\\nc\\n=\\n0.\\n\\n\\n{\\\\displaystyle ax^{2}+bx+c=0.}\\n\\n\\nIt follows from the quadratic formula that\\n\\n\\n\\n\\na\\n\\nx\\n\\n2\\n\\n\\n+\\nb\\nx\\n+\\nc\\n=\\na\\n\\n(\\n\\nx\\n−\\n\\n\\n\\n−\\nb\\n+\\n\\n\\n\\nb\\n\\n2\\n\\n\\n−\\n4\\na\\nc\\n\\n\\n\\n\\n2\\na\\n\\n\\n\\n\\n)\\n\\n\\n(\\n\\nx\\n−\\n\\n\\n\\n−\\nb\\n−\\n\\n\\n\\nb\\n\\n2\\n\\n\\n−\\n4\\na\\nc\\n\\n\\n\\n\\n2\\na\\n\\n\\n\\n\\n)\\n\\n.\\n\\n\\n{\\\\displaystyle ax^{2}+bx+c=a\\\\left(x-{\\\\frac {-b+{\\\\sqrt {b^{2}-4ac}}}{2a}}\\\\right)\\\\left(x-{\\\\frac {-b-{\\\\sqrt {b^{2}-4ac}}}{2a}}\\\\right).}\\n\\n\\nIn the special case b2 = 4ac where the quadratic has only one distinct root (i.e. the discriminant is zero), the quadratic polynomial can be factored as\\n\\n\\n\\n\\na\\n\\nx\\n\\n2\\n\\n\\n+\\nb\\nx\\n+\\nc\\n=\\na\\n\\n\\n(\\n\\nx\\n+\\n\\n\\nb\\n\\n2\\na\\n\\n\\n\\n\\n)\\n\\n\\n2\\n\\n\\n.\\n\\n\\n{\\\\displaystyle ax^{2}+bx+c=a\\\\left(x+{\\\\frac {b}{2a}}\\\\right)^{2}.}\\n\\n\\n\\nGraphical solution\\nThe solutions of the quadratic equation \\n\\n\\n\\n\\na\\n\\nx\\n\\n2\\n\\n\\n+\\nb\\nx\\n+\\nc\\n=\\n0\\n\\n\\n{\\\\displaystyle ax^{2}+bx+c=0}\\n\\n\\nmay be deduced from the graph of the quadratic function\\n\\n\\n\\n\\nf\\n(\\nx\\n)\\n=\\na\\n\\nx\\n\\n2\\n\\n\\n+\\nb\\nx\\n+\\nc\\n,\\n\\n\\n{\\\\displaystyle f(x)=ax^{2}+bx+c,}\\n\\n\\nwhich is a parabola.\\nIf the parabola intersects the x-axis in two points, there are two real roots, which are the x-coordinates of these two points (also called x-intercept).\\nIf the parabola is tangent to the x-axis, there is a double root, which is the x-coordinate of the contact point between the graph and parabola.\\nIf the parabola does not intersect the x-axis, there are two complex conjugate roots. Although these roots cannot be visualized on the graph, their real and imaginary parts can be.\\nLet h and k be respectively the x-coordinate and the y-coordinate of the vertex of the parabola (that is the point with maximal or minimal y-coordinate. The quadratic function may be rewritten\\n\\n\\n\\n\\ny\\n=\\na\\n(\\nx\\n−\\nh\\n\\n)\\n\\n2\\n\\n\\n+\\nk\\n.\\n\\n\\n{\\\\displaystyle y=a(x-h)^{2}+k.}\\n\\n\\nLet d be the distance between the point of y-coordinate 2k on the axis of the parabola, and a point on the parabola with the same y-coordinate (see the figure; there are two such points, which give the same distance, because of the symmetry of the parabola). Then the real part of the roots is h, and their imaginary part are ±d. That is, the roots are \\n\\n\\n\\n\\nh\\n+\\ni\\nd\\n\\n\\nand\\n\\n\\nh\\n−\\ni\\nd\\n,\\n\\n\\n{\\\\displaystyle h+id\\\\quad {\\\\text{and}}\\\\quad h-id,}\\n\\n\\nor in the case of the example of the figure\\n\\n\\n\\n\\n5\\n+\\n3\\ni\\n\\n\\nand\\n\\n\\n5\\n−\\n3\\ni\\n.\\n\\n\\n{\\\\displaystyle 5+3i\\\\quad {\\\\text{and}}\\\\quad 5-3i.}\\n\\n\\n\\nAvoiding loss of significance\\nAlthough the quadratic formula provides an exact solution, the result is not exact if real numbers are approximated during the computation, as usual in numerical analysis, where real numbers are approximated by floating point numbers (called \"reals\" in many programming languages). In this context, the quadratic formula is not completely stable.\\nThis occurs when the roots have different order of magnitude, or, equivalently, when b2 and  b2 − 4ac are close in magnitude. In this case, the subtraction of two nearly equal numbers will cause loss of significance or catastrophic cancellation in the smaller root. To avoid this, the root that is smaller in magnitude, r, can be computed as \\n\\n\\n\\n(\\nc\\n\\n/\\n\\na\\n)\\n\\n/\\n\\nR\\n\\n\\n{\\\\displaystyle (c/a)/R}\\n\\n where R is the root that is bigger in magnitude. This is equivalent to using the formula\\n\\n\\n\\n\\nx\\n=\\n\\n\\n\\n−\\n2\\nc\\n\\n\\nb\\n±\\n\\n\\n\\nb\\n\\n2\\n\\n\\n−\\n4\\na\\nc\\n\\n\\n\\n\\n\\n\\n\\n{\\\\displaystyle x={\\\\frac {-2c}{b\\\\pm {\\\\sqrt {b^{2}-4ac}}}}}\\n\\n\\nusing the plus sign if \\n\\n\\n\\nb\\n>\\n0\\n\\n\\n{\\\\displaystyle b>0}\\n\\n and the minus sign if \\n\\n\\n\\nb\\n<\\n0.\\n\\n\\n{\\\\displaystyle b<0.}\\n\\n\\nA second form of cancellation can occur between the terms b2 and 4ac of the discriminant, that is when the two roots are very close. This can lead to loss of up to half of correct significant figures in the roots.\\n\\nExamples and applications\\nThe golden ratio is found as the positive solution of the quadratic equation \\n\\n\\n\\n\\nx\\n\\n2\\n\\n\\n−\\nx\\n−\\n1\\n=\\n0.\\n\\n\\n{\\\\displaystyle x^{2}-x-1=0.}\\n\\n\\nThe equations of the circle and the other conic sections—ellipses, parabolas, and hyperbolas—are quadratic equations in two variables.\\nGiven the cosine or sine of an angle, finding the cosine or sine of the angle that is half as large involves solving a quadratic equation.\\nThe process of simplifying expressions involving the square root of an expression involving the square root of another expression involves finding the two solutions of a quadratic equation.\\nDescartes\\' theorem states that for every four kissing (mutually tangent) circles, their radii satisfy a particular quadratic equation.\\nThe equation given by Fuss\\' theorem, giving the relation among the radius of a bicentric quadrilateral\\'s inscribed circle, the radius of its circumscribed circle, and the distance between the centers of those circles, can be expressed as a quadratic equation for which the distance between the two circles\\' centers in terms of their radii is one of the solutions. The other solution of the same equation in terms of the relevant radii gives the distance between the circumscribed circle\\'s center and the center of the excircle of an ex-tangential quadrilateral.\\nCritical points of a cubic function and inflection points of a quartic function are found by solving a quadratic equation.\\nIn physics, for motion with constant acceleration \\n\\n\\n\\na\\n\\n\\n{\\\\displaystyle a}\\n\\n, the displacement or position \\n\\n\\n\\nx\\n\\n\\n{\\\\displaystyle x}\\n\\n of a moving body can be expressed as a quadratic function of time \\n\\n\\n\\nt\\n\\n\\n{\\\\displaystyle t}\\n\\n given the initial position \\n\\n\\n\\n\\nx\\n\\n0\\n\\n\\n\\n\\n{\\\\displaystyle x_{0}}\\n\\n and initial velocity \\n\\n\\n\\n\\nv\\n\\n0\\n\\n\\n\\n\\n{\\\\displaystyle v_{0}}\\n\\n: \\n\\n\\n\\nx\\n=\\n\\nx\\n\\n0\\n\\n\\n+\\n\\nv\\n\\n0\\n\\n\\nt\\n+\\n\\n\\n1\\n2\\n\\n\\na\\n\\nt\\n\\n2\\n\\n\\n\\n\\n{\\\\textstyle x=x_{0}+v_{0}t+{\\\\frac {1}{2}}at^{2}}\\n\\n.\\nIn chemistry, the pH of a solution of weak acid can be calculated from the negative base-10 logarithm of the positive root of a quadratic equation in terms of the acidity constant and the analytical concentration of the acid.\\n\\nHistory\\nBabylonian mathematicians, as early as 2000 BC (displayed on Old Babylonian clay tablets) could solve problems relating the areas and sides of rectangles. There is evidence dating this algorithm as far back as the Third Dynasty of Ur. In modern notation, the problems typically involved solving a pair of simultaneous equations of the form:\\n\\n\\n\\n\\nx\\n+\\ny\\n=\\np\\n,\\n\\xa0\\n\\xa0\\nx\\ny\\n=\\nq\\n,\\n\\n\\n{\\\\displaystyle x+y=p,\\\\ \\\\ xy=q,}\\n\\n\\nwhich is equivalent to the statement that x and y are the roots of the equation::\\u200a86\\u200a\\n\\n\\n\\n\\n\\nz\\n\\n2\\n\\n\\n+\\nq\\n=\\np\\nz\\n.\\n\\n\\n{\\\\displaystyle z^{2}+q=pz.}\\n\\n\\nThe steps given by Babylonian scribes for solving the above rectangle problem, in terms of x and y, were as follows:\\n\\nCompute half of p.\\nSquare the result.\\nSubtract q.\\nFind the (positive) square root using a table of squares.\\nAdd together the results of steps (1) and (4) to give x.\\nIn modern notation this means calculating \\n\\n\\n\\nx\\n=\\n\\n\\np\\n2\\n\\n\\n+\\n\\n\\n\\n\\n(\\n\\n\\np\\n2\\n\\n\\n)\\n\\n\\n2\\n\\n\\n−\\nq\\n\\n\\n\\n\\n{\\\\displaystyle x={\\\\frac {p}{2}}+{\\\\sqrt {\\\\left({\\\\frac {p}{2}}\\\\right)^{2}-q}}}\\n\\n, which is equivalent to the modern day quadratic formula for the larger real root (if any) \\n\\n\\n\\nx\\n=\\n\\n\\n\\n−\\nb\\n+\\n\\n\\n\\nb\\n\\n2\\n\\n\\n−\\n4\\na\\nc\\n\\n\\n\\n\\n2\\na\\n\\n\\n\\n\\n\\n{\\\\displaystyle x={\\\\frac {-b+{\\\\sqrt {b^{2}-4ac}}}{2a}}}\\n\\n with a = 1, b = −p, and c = q.\\nGeometric methods were used to solve quadratic equations in Babylonia, Egypt, Greece, China, and India. The Egyptian Berlin Papyrus, dating back to the Middle Kingdom (2050 BC to 1650 BC), contains the solution to a two-term quadratic equation. Babylonian mathematicians from circa 400 BC and Chinese mathematicians from circa 200 BC used geometric methods of dissection to solve quadratic equations with positive roots. Rules for quadratic equations were given in The Nine Chapters on the Mathematical Art, a Chinese treatise on mathematics. These early geometric methods do not appear to have had a general formula. Euclid, the Greek mathematician, produced a more abstract geometrical method around 300 BC. With a purely geometric approach Pythagoras and Euclid created a general procedure to find solutions of the quadratic equation. In his work Arithmetica, the Greek mathematician Diophantus solved the quadratic equation, but giving only one root, even when both roots were positive.\\nIn 628 AD, Brahmagupta, an Indian mathematician, gave in his book Brāhmasphuṭasiddhānta the first explicit (although still not completely general) solution of the quadratic equation ax2 + bx = c as follows: \"To the absolute number multiplied by four times the [coefficient of the] square, add the square of the [coefficient of the] middle term; the square root of the same, less the [coefficient of the] middle term, being divided by twice the [coefficient of the] square is the value.\" This is equivalent to\\n\\n\\n\\n\\nx\\n=\\n\\n\\n\\n\\n\\n4\\na\\nc\\n+\\n\\nb\\n\\n2\\n\\n\\n\\n\\n−\\nb\\n\\n\\n2\\na\\n\\n\\n\\n.\\n\\n\\n{\\\\displaystyle x={\\\\frac {{\\\\sqrt {4ac+b^{2}}}-b}{2a}}.}\\n\\n\\nThe Bakhshali Manuscript written in India in the 7th century AD contained an algebraic formula for solving quadratic equations, as well as linear indeterminate equations (originally of type ax/c = y). Muhammad ibn Musa al-Khwarizmi (9th century) developed a set of formulas that worked for positive solutions. Al-Khwarizmi goes further in providing a full solution to the general quadratic equation, accepting one or two numerical answers for every quadratic equation, while providing geometric proofs in the process. He also described the method of completing the square and recognized that the discriminant must be positive,:\\u200a230\\u200a which was proven by his contemporary \\'Abd al-Hamīd ibn Turk (Central Asia, 9th century) who gave geometric figures to prove that if the discriminant is negative, a quadratic equation has no solution.:\\u200a234\\u200a While al-Khwarizmi himself did not accept negative solutions, later Islamic mathematicians that succeeded him accepted negative solutions,:\\u200a191\\u200a as well as irrational numbers as solutions. Abū Kāmil Shujā ibn Aslam (Egypt, 10th century) in particular was the first to accept irrational numbers (often in the form of a square root, cube root or fourth root) as solutions to quadratic equations or as coefficients in an equation. The 9th century Indian mathematician Sridhara wrote down rules for solving quadratic equations.\\nThe Jewish mathematician Abraham bar Hiyya Ha-Nasi (12th century, Spain) authored the first European book to include the full solution to the general quadratic equation. His solution was largely based on Al-Khwarizmi\\'s work. The writing of the Chinese mathematician Yang Hui (1238–1298 AD) is the first known one in which quadratic equations with negative coefficients of \\'x\\' appear, although he attributes this to the earlier Liu Yi. By 1545 Gerolamo Cardano compiled the works related to the quadratic equations. The quadratic formula covering all cases was first obtained by Simon Stevin in 1594. In 1637 René Descartes published La Géométrie containing the quadratic formula in the form we know today.\\n\\nAdvanced topics\\nAlternative methods of root calculation\\nVieta\\'s formulas\\n\\nVieta\\'s formulas (named after François Viète) are the relations\\n\\n\\n\\n\\n\\nx\\n\\n1\\n\\n\\n+\\n\\nx\\n\\n2\\n\\n\\n=\\n−\\n\\n\\nb\\na\\n\\n\\n,\\n\\n\\nx\\n\\n1\\n\\n\\n\\nx\\n\\n2\\n\\n\\n=\\n\\n\\nc\\na\\n\\n\\n\\n\\n{\\\\displaystyle x_{1}+x_{2}=-{\\\\frac {b}{a}},\\\\quad x_{1}x_{2}={\\\\frac {c}{a}}}\\n\\n \\nbetween the roots of a quadratic polynomial and its coefficients. They result from comparing term by term the relation\\n\\n\\n\\n\\n\\n(\\n\\nx\\n−\\n\\nx\\n\\n1\\n\\n\\n\\n)\\n\\n\\n(\\n\\nx\\n−\\n\\nx\\n\\n2\\n\\n\\n\\n)\\n\\n=\\n\\nx\\n\\n2\\n\\n\\n−\\n\\n(\\n\\n\\nx\\n\\n1\\n\\n\\n+\\n\\nx\\n\\n2\\n\\n\\n\\n)\\n\\nx\\n+\\n\\nx\\n\\n1\\n\\n\\n\\nx\\n\\n2\\n\\n\\n=\\n0\\n\\n\\n{\\\\displaystyle \\\\left(x-x_{1}\\\\right)\\\\left(x-x_{2}\\\\right)=x^{2}-\\\\left(x_{1}+x_{2}\\\\right)x+x_{1}x_{2}=0}\\n\\n\\nwith the equation\\n\\n\\n\\n\\n\\nx\\n\\n2\\n\\n\\n+\\n\\n\\nb\\na\\n\\n\\nx\\n+\\n\\n\\nc\\na\\n\\n\\n=\\n0.\\n\\n\\n{\\\\displaystyle x^{2}+{\\\\frac {b}{a}}x+{\\\\frac {c}{a}}=0.}\\n\\n\\nThe first Vieta\\'s formula is useful for graphing a quadratic function. Since the graph is symmetric with respect to a vertical line through the vertex,  the vertex\\'s x-coordinate is located at the average of the roots (or intercepts). Thus the x-coordinate of the vertex is\\n\\n\\n\\n\\n\\nx\\n\\nV\\n\\n\\n=\\n\\n\\n\\n\\nx\\n\\n1\\n\\n\\n+\\n\\nx\\n\\n2\\n\\n\\n\\n2\\n\\n\\n=\\n−\\n\\n\\nb\\n\\n2\\na\\n\\n\\n\\n.\\n\\n\\n{\\\\displaystyle x_{V}={\\\\frac {x_{1}+x_{2}}{2}}=-{\\\\frac {b}{2a}}.}\\n\\n\\nThe y-coordinate can be obtained by substituting the above result into the given quadratic equation, giving\\n\\n\\n\\n\\n\\ny\\n\\nV\\n\\n\\n=\\n−\\n\\n\\n\\nb\\n\\n2\\n\\n\\n\\n4\\na\\n\\n\\n\\n+\\nc\\n=\\n−\\n\\n\\n\\n\\nb\\n\\n2\\n\\n\\n−\\n4\\na\\nc\\n\\n\\n4\\na\\n\\n\\n\\n.\\n\\n\\n{\\\\displaystyle y_{V}=-{\\\\frac {b^{2}}{4a}}+c=-{\\\\frac {b^{2}-4ac}{4a}}.}\\n\\n\\nAlso, these formulas for the vertex can be deduced directly from the formula (see Completing the square)\\n\\n\\n\\n\\na\\n\\nx\\n\\n2\\n\\n\\n+\\nb\\nx\\n+\\nc\\n=\\na\\n\\n\\n(\\n\\nx\\n+\\n\\n\\nb\\n\\n2\\na\\n\\n\\n\\n\\n)\\n\\n\\n2\\n\\n\\n−\\n\\n\\n\\n\\nb\\n\\n2\\n\\n\\n−\\n4\\na\\nc\\n\\n\\n4\\na\\n\\n\\n\\n.\\n\\n\\n{\\\\displaystyle ax^{2}+bx+c=a\\\\left(x+{\\\\frac {b}{2a}}\\\\right)^{2}-{\\\\frac {b^{2}-4ac}{4a}}.}\\n\\n\\nFor numerical computation, Vieta\\'s formulas provide a useful method for finding the roots of a quadratic equation in the case where one root is much smaller than the other. If |x2| << |x1|, then x1 + x2 ≈ x1, and we have the estimate:\\n\\n\\n\\n\\n\\nx\\n\\n1\\n\\n\\n≈\\n−\\n\\n\\nb\\na\\n\\n\\n.\\n\\n\\n{\\\\displaystyle x_{1}\\\\approx -{\\\\frac {b}{a}}.}\\n\\n\\nThe second Vieta\\'s formula then provides:\\n\\n\\n\\n\\n\\nx\\n\\n2\\n\\n\\n=\\n\\n\\nc\\n\\na\\n\\nx\\n\\n1\\n\\n\\n\\n\\n\\n≈\\n−\\n\\n\\nc\\nb\\n\\n\\n.\\n\\n\\n{\\\\displaystyle x_{2}={\\\\frac {c}{ax_{1}}}\\\\approx -{\\\\frac {c}{b}}.}\\n\\n\\nThese formulas are much easier to evaluate than the quadratic formula under the condition of one large and one small root, because the quadratic formula evaluates the small root as the difference of two very nearly equal numbers (the case of large b), which causes round-off error in a numerical evaluation. The figure shows the difference between (i)\\xa0a direct evaluation using the quadratic formula (accurate when the roots are near each other in value) and (ii)\\xa0an evaluation based upon the above approximation of Vieta\\'s formulas (accurate when the roots are widely spaced). As the linear coefficient b increases, initially the quadratic formula is accurate, and the approximate formula improves in accuracy, leading to a smaller difference between the methods as b increases. However, at some point the quadratic formula begins to lose accuracy because of round off error, while the approximate method continues to improve. Consequently, the difference between the methods begins to increase as the quadratic formula becomes worse and worse.\\nThis situation arises commonly in amplifier design, where widely separated roots are desired to ensure a stable operation (see Step response).\\n\\nTrigonometric solution\\nIn the days before calculators, people would use mathematical tables—lists of numbers showing the results of calculation with varying arguments—to simplify and speed up computation. Tables of logarithms and trigonometric functions were common in math and science textbooks. Specialized tables were published for applications such as astronomy, celestial navigation and statistics. Methods of numerical approximation existed, called prosthaphaeresis, that offered shortcuts around time-consuming operations such as multiplication and taking powers and roots. Astronomers, especially, were concerned with methods that could speed up the long series of computations involved in celestial mechanics calculations.\\nIt is within this context that we may understand the development of means of solving quadratic equations by the aid of trigonometric substitution. Consider the following alternate form of the quadratic equation,\\n\\nwhere the sign of the ± symbol is chosen so that a and c may both be positive. By substituting\\n\\nand then multiplying through by cos2(θ) / c, we obtain\\n\\nIntroducing functions of 2θ and rearranging, we obtain\\n\\nwhere the subscripts n and p correspond, respectively, to the use of a negative or positive sign in equation [1]. Substituting the two values of θn or θp found from equations [4] or [5] into [2] gives the required roots of [1]. Complex roots occur in the solution based on equation [5] if the absolute value of sin 2θp exceeds unity. The amount of effort involved in solving quadratic equations using this mixed trigonometric and logarithmic table look-up strategy was two-thirds the effort using logarithmic tables alone. Calculating complex roots would require using a different trigonometric form.\\nTo illustrate, let us assume we had available seven-place logarithm and trigonometric tables, and wished to solve the following to six-significant-figure accuracy:\\n\\n\\n\\n\\n4.16130\\n\\nx\\n\\n2\\n\\n\\n+\\n9.15933\\nx\\n−\\n11.4207\\n=\\n0\\n\\n\\n{\\\\displaystyle 4.16130x^{2}+9.15933x-11.4207=0}\\n\\n\\n\\nA seven-place lookup table might have only 100,000 entries, and computing intermediate results to seven places would generally require interpolation between adjacent entries.\\n\\n\\n\\n\\nlog\\n\\u2061\\na\\n=\\n0.6192290\\n,\\nlog\\n\\u2061\\nb\\n=\\n0.9618637\\n,\\nlog\\n\\u2061\\nc\\n=\\n1.0576927\\n\\n\\n{\\\\displaystyle \\\\log a=0.6192290,\\\\log b=0.9618637,\\\\log c=1.0576927}\\n\\n\\n\\n\\n\\n\\n2\\n\\n\\na\\nc\\n\\n\\n\\n/\\n\\nb\\n=\\n2\\n×\\n\\n10\\n\\n(\\n0.6192290\\n+\\n1.0576927\\n)\\n\\n/\\n\\n2\\n−\\n0.9618637\\n\\n\\n=\\n1.505314\\n\\n\\n{\\\\displaystyle 2{\\\\sqrt {ac}}/b=2\\\\times 10^{(0.6192290+1.0576927)/2-0.9618637}=1.505314}\\n\\n\\n\\n\\n\\n\\nθ\\n=\\n(\\n\\ntan\\n\\n−\\n1\\n\\n\\n\\u2061\\n1.505314\\n)\\n\\n/\\n\\n2\\n=\\n\\n28.20169\\n\\n∘\\n\\n\\n\\n\\xa0or\\xa0\\n\\n−\\n\\n61.79831\\n\\n∘\\n\\n\\n\\n\\n{\\\\displaystyle \\\\theta =(\\\\tan ^{-1}1.505314)/2=28.20169^{\\\\circ }{\\\\text{ or }}-61.79831^{\\\\circ }}\\n\\n\\n\\n\\n\\n\\nlog\\n\\u2061\\n\\n|\\n\\ntan\\n\\u2061\\nθ\\n\\n|\\n\\n=\\n−\\n0.2706462\\n\\n\\xa0or\\xa0\\n\\n0.2706462\\n\\n\\n{\\\\displaystyle \\\\log |\\\\tan \\\\theta |=-0.2706462{\\\\text{ or }}0.2706462}\\n\\n\\n\\n\\n\\n\\nlog\\n\\u2061\\n\\n\\n\\n\\nc\\n\\n/\\n\\na\\n\\n\\n\\n\\n=\\n(\\n1.0576927\\n−\\n0.6192290\\n)\\n\\n/\\n\\n2\\n=\\n0.2192318\\n\\n\\n{\\\\displaystyle \\\\log {\\\\textstyle {\\\\sqrt {c/a}}}=(1.0576927-0.6192290)/2=0.2192318}\\n\\n\\n\\n\\n\\n\\n\\nx\\n\\n1\\n\\n\\n=\\n\\n10\\n\\n0.2192318\\n−\\n0.2706462\\n\\n\\n=\\n0.888353\\n\\n\\n{\\\\displaystyle x_{1}=10^{0.2192318-0.2706462}=0.888353}\\n\\n (rounded to six significant figures) \\n\\n\\n\\n\\nx\\n\\n2\\n\\n\\n=\\n−\\n\\n10\\n\\n0.2192318\\n+\\n0.2706462\\n\\n\\n=\\n−\\n3.08943\\n\\n\\n{\\\\displaystyle x_{2}=-10^{0.2192318+0.2706462}=-3.08943}\\n\\n\\nSolution for complex roots in polar coordinates\\nIf the quadratic equation \\n\\n\\n\\na\\n\\nx\\n\\n2\\n\\n\\n+\\nb\\nx\\n+\\nc\\n=\\n0\\n\\n\\n{\\\\displaystyle ax^{2}+bx+c=0}\\n\\n with real coefficients has two complex roots—the case where \\n\\n\\n\\n\\nb\\n\\n2\\n\\n\\n−\\n4\\na\\nc\\n<\\n0\\n,\\n\\n\\n{\\\\displaystyle b^{2}-4ac<0,}\\n\\n requiring a and c to have the same sign as each other—then the solutions for the roots can be expressed in polar form as\\n\\n\\n\\n\\n\\nx\\n\\n1\\n\\n\\n,\\n\\n\\nx\\n\\n2\\n\\n\\n=\\nr\\n(\\ncos\\n\\u2061\\nθ\\n±\\ni\\nsin\\n\\u2061\\nθ\\n)\\n,\\n\\n\\n{\\\\displaystyle x_{1},\\\\,x_{2}=r(\\\\cos \\\\theta \\\\pm i\\\\sin \\\\theta ),}\\n\\n\\nwhere \\n\\n\\n\\nr\\n=\\n\\n\\n\\n\\nc\\na\\n\\n\\n\\n\\n\\n\\n{\\\\displaystyle r={\\\\sqrt {\\\\tfrac {c}{a}}}}\\n\\n and \\n\\n\\n\\nθ\\n=\\n\\ncos\\n\\n−\\n1\\n\\n\\n\\u2061\\n\\n(\\n\\n\\n\\n\\n−\\nb\\n\\n\\n2\\n\\n\\na\\nc\\n\\n\\n\\n\\n\\n\\n)\\n\\n.\\n\\n\\n{\\\\displaystyle \\\\theta =\\\\cos ^{-1}\\\\left({\\\\tfrac {-b}{2{\\\\sqrt {ac}}}}\\\\right).}\\n\\n\\n\\nGeometric solution\\nThe quadratic equation may be solved geometrically in a number of ways. One way is via Lill\\'s method. The three coefficients a, b, c are drawn with right angles between them as in SA, AB, and BC in Figure\\xa06. A circle is drawn with the start and end point SC as a diameter. If this cuts the middle line AB of the three then the equation has a solution, and the solutions are given by negative of the distance along this line from A divided by the first coefficient a or SA. If a is 1 the coefficients may be read off directly. Thus the solutions in the diagram are −AX1/SA and −AX2/SA.\\n\\nThe Carlyle circle, named after Thomas Carlyle, has the property that the solutions of the quadratic equation are the horizontal coordinates of the intersections of the circle with the horizontal axis. Carlyle circles have been used to develop ruler-and-compass constructions of regular polygons.\\n\\nGeneralization of quadratic equation\\nThe formula and its derivation remain correct if the coefficients a, b and c are complex numbers, or more generally members of any field whose characteristic is not 2. (In a field of characteristic 2, the element 2a is zero and it is impossible to divide by it.)\\nThe symbol\\n\\n\\n\\n\\n±\\n\\n\\n\\nb\\n\\n2\\n\\n\\n−\\n4\\na\\nc\\n\\n\\n\\n\\n{\\\\displaystyle \\\\pm {\\\\sqrt {b^{2}-4ac}}}\\n\\n\\nin the formula should be understood as \"either of the two elements whose square is b2 − 4ac, if such elements exist\". In some fields, some elements have no square roots and some have two; only zero has just one square root, except in fields of characteristic 2. Even if a field does not contain a square root of some number, there is always a quadratic extension field which does, so the quadratic formula will always make sense as a formula in that extension field.\\n\\nCharacteristic 2\\nIn a field of characteristic 2, the quadratic formula, which relies on 2 being a unit, does not hold. Consider the monic quadratic polynomial\\n\\n\\n\\n\\n\\nx\\n\\n2\\n\\n\\n+\\nb\\nx\\n+\\nc\\n\\n\\n{\\\\displaystyle x^{2}+bx+c}\\n\\n\\nover a field of characteristic 2. If b = 0, then the solution reduces to extracting a square root, so the solution is\\n\\n\\n\\n\\nx\\n=\\n\\n\\nc\\n\\n\\n\\n\\n{\\\\displaystyle x={\\\\sqrt {c}}}\\n\\n\\nand there is only one root since\\n\\n\\n\\n\\n−\\n\\n\\nc\\n\\n\\n=\\n−\\n\\n\\nc\\n\\n\\n+\\n2\\n\\n\\nc\\n\\n\\n=\\n\\n\\nc\\n\\n\\n.\\n\\n\\n{\\\\displaystyle -{\\\\sqrt {c}}=-{\\\\sqrt {c}}+2{\\\\sqrt {c}}={\\\\sqrt {c}}.}\\n\\n\\nIn summary,\\n\\n\\n\\n\\n\\n\\nx\\n\\n2\\n\\n\\n+\\nc\\n=\\n(\\nx\\n+\\n\\n\\nc\\n\\n\\n\\n)\\n\\n2\\n\\n\\n.\\n\\n\\n\\n{\\\\displaystyle \\\\displaystyle x^{2}+c=(x+{\\\\sqrt {c}})^{2}.}\\n\\n\\nSee quadratic residue for more information about extracting square roots in finite fields.\\nIn the case that b ≠ 0, there are two distinct roots, but if the polynomial is irreducible, they cannot be expressed in terms of square roots of numbers in the coefficient field. Instead, define the 2-root R(c) of c to be a root of the polynomial x2 + x + c, an element of the splitting field of that polynomial. One verifies that R(c) + 1 is also a root. In terms of the 2-root operation, the two roots of the (non-monic) quadratic ax2 + bx + c are\\n\\n\\n\\n\\n\\n\\nb\\na\\n\\n\\nR\\n\\n(\\n\\n\\n\\na\\nc\\n\\n\\nb\\n\\n2\\n\\n\\n\\n\\n)\\n\\n\\n\\n{\\\\displaystyle {\\\\frac {b}{a}}R\\\\left({\\\\frac {ac}{b^{2}}}\\\\right)}\\n\\n\\nand\\n\\n\\n\\n\\n\\n\\nb\\na\\n\\n\\n\\n(\\n\\nR\\n\\n(\\n\\n\\n\\na\\nc\\n\\n\\nb\\n\\n2\\n\\n\\n\\n\\n)\\n\\n+\\n1\\n\\n)\\n\\n.\\n\\n\\n{\\\\displaystyle {\\\\frac {b}{a}}\\\\left(R\\\\left({\\\\frac {ac}{b^{2}}}\\\\right)+1\\\\right).}\\n\\n\\nFor example, let a denote a multiplicative generator of the group of units of F4, the Galois field of order four (thus a and a + 1 are roots of x2 + x + 1 over F4. Because (a + 1)2 = a, a + 1 is the unique solution of the quadratic equation x2 + a = 0. On the other hand, the polynomial x2 + ax + 1 is irreducible over F4, but it splits over F16, where it has the two roots ab and ab + a, where b is a root of x2 + x + a in F16.\\nThis is a special case of Artin–Schreier theory.\\n\\nSee also\\nSolving quadratic equations with continued fractions\\nLinear equation\\nCubic function\\nQuartic equation\\nQuintic equation\\nFundamental theorem of algebra\\nReferences\\nExternal links\\n\"Quadratic equation\", Encyclopedia of Mathematics, EMS Press, 2001 [1994]\\nWeisstein, Eric W. \"Quadratic equations\". MathWorld.\\n101 uses of a quadratic equation Archived 2007-11-10 at the Wayback Machine\\n101 uses of a quadratic equation: Part II Archived 2007-10-22 at the Wayback Machine'"
            ],
            "application/vnd.google.colaboratory.intrinsic+json": {
              "type": "string"
            }
          },
          "metadata": {},
          "execution_count": 4
        }
      ]
    },
    {
      "cell_type": "code",
      "source": [
        "from langchain_core.prompts import ChatPromptTemplate\n",
        "\n",
        "prompt_template = ChatPromptTemplate.from_messages([\n",
        "    (\"system\", \"Você irá ler um texto retirado de uma página HTML do Wikipedia em inglês, seu papel é resumir o texto nos aspectos mais importantes e traduzi-lo para o Português.\"\n",
        "    \"Se for algo relacionado à matemática se certifique de mostrar no resumo como resolver os problemas. Não é necessário especificar de onde o texto vem\"),\n",
        "    (\"human\", \"{texto}\")\n",
        "])\n",
        "\n",
        "chain_resumo = prompt_template | modelo\n",
        "\n",
        "resumo_texto = chain_resumo.invoke({\"texto\": soup.get_text()})"
      ],
      "metadata": {
        "id": "qV-lfFrKW4qs"
      },
      "execution_count": null,
      "outputs": []
    },
    {
      "cell_type": "code",
      "source": [
        "from IPython.display import Markdown\n",
        "\n",
        "Markdown(resumo_texto.content)"
      ],
      "metadata": {
        "colab": {
          "base_uri": "https://localhost:8080/",
          "height": 689
        },
        "id": "58xYnq6IXgVP",
        "outputId": "7096eb73-df64-430d-a2d4-323b6f15cca8"
      },
      "execution_count": null,
      "outputs": [
        {
          "output_type": "execute_result",
          "data": {
            "text/plain": [
              "<IPython.core.display.Markdown object>"
            ],
            "text/markdown": "## A Equação Quadrática\n\nEste texto descreve a **equação quadrática**, uma equação polinomial de segundo grau fundamental em matemática. \n\n**Definição:** Uma equação quadrática é escrita na forma padrão como:\n\n  *ax² + bx + c = 0*\n\nOnde:\n\n* *x* é a variável desconhecida.\n* *a*, *b* e *c* são números conhecidos como coeficientes, com *a* ≠ 0.\n\n**Soluções:** As soluções, ou raízes, da equação são os valores de *x* que a satisfazem. Uma equação quadrática pode ter:\n\n* Duas soluções reais distintas.\n* Uma solução real dupla (repetida).\n* Duas soluções complexas conjugadas.\n\n**Resolvendo a Equação Quadrática:**\n\nExistem diferentes métodos para encontrar as raízes de uma equação quadrática:\n\n1. **Fatoração:** Consiste em transformar a equação em um produto de fatores lineares. Por exemplo: \n   *x² + 5x + 6 = (x + 2)(x + 3) = 0*\n   As soluções são obtidas igualando cada fator a zero: x = -2 ou x = -3. \n\n2. **Completando o Quadrado:** Envolve manipular algebricamente a equação para escrevê-la na forma (x + h)² = k.\n\n3. **Fórmula Quadrática:** A fórmula fornece as soluções diretamente em termos dos coeficientes:\n\n   *x = (-b ± √(b² - 4ac)) / 2a*\n\n**Discriminante (Δ):**\n\nO discriminante, Δ = b² - 4ac, determina a natureza das raízes:\n\n* Δ > 0: Duas raízes reais distintas.\n* Δ = 0: Uma raiz real dupla.\n* Δ < 0: Duas raízes complexas conjugadas.\n\n**Aplicações:**\n\nAs equações quadráticas possuem diversas aplicações em áreas como física, química, engenharia e geometria, sendo usadas para modelar movimento, calcular pH, determinar pontos críticos de funções, entre outros.\n\n**História:**\n\nCivilizações antigas como Babilônios, Gregos, Chineses e Indianos já resolviam problemas que envolviam equações quadráticas utilizando métodos geométricos e algébricos. A fórmula geral que conhecemos hoje foi consolidada ao longo da história por matemáticos como Brahmagupta, al-Khwarizmi e Simon Stevin.\n"
          },
          "metadata": {},
          "execution_count": 6
        }
      ]
    },
    {
      "cell_type": "markdown",
      "source": [
        "# Flashcards"
      ],
      "metadata": {
        "id": "l_mDz62KPUit"
      }
    },
    {
      "cell_type": "code",
      "source": [
        "import ipywidgets as widgets\n",
        "from IPython.display import display, HTML"
      ],
      "metadata": {
        "id": "OdKxuB7rPu6f"
      },
      "execution_count": null,
      "outputs": []
    },
    {
      "cell_type": "code",
      "source": [
        "from langchain_core.pydantic_v1 import BaseModel, Field\n",
        "\n",
        "class Flashcard(BaseModel):\n",
        "    question: str = Field(description=\"Question about a subject\")\n",
        "    answer: str = Field(description=\"Answer of the question\")"
      ],
      "metadata": {
        "id": "cBHk6XnoPhS3"
      },
      "execution_count": null,
      "outputs": []
    },
    {
      "cell_type": "code",
      "source": [
        "from langchain_core.output_parsers import JsonOutputParser\n",
        "\n",
        "parser = JsonOutputParser(pydantic_object=Flashcard)"
      ],
      "metadata": {
        "id": "j6FRSpd6PmOJ"
      },
      "execution_count": null,
      "outputs": []
    },
    {
      "cell_type": "code",
      "source": [
        "from langchain_core.prompts import PromptTemplate\n",
        "\n",
        "prompt = PromptTemplate(\n",
        "    template=\"Você irá receber um texto sobre determinado assunto, você deve criar 10 questões de nível médio sobre esse texto e sua respectiva resposta\\nFaça perguntas e respostas concisas. Se o texto for sobre algum assunto de matemática priorize questões de cálculo\\n{format_instructions}\\n{query}\\n\",\n",
        "    input_variables=[\"query\"],\n",
        "    partial_variables={\"format_instructions\": parser.get_format_instructions()},\n",
        ")\n",
        "\n",
        "modelo = ChatGoogleGenerativeAI(model='gemini-1.5-pro', api_key=userdata.get('GOOGLE_API_KEY'))\n",
        "chain = prompt | modelo | parser"
      ],
      "metadata": {
        "id": "slcJ4V4sWY7c"
      },
      "execution_count": null,
      "outputs": []
    },
    {
      "cell_type": "code",
      "source": [
        "flashcards = chain.invoke({\"query\": resumo_texto})"
      ],
      "metadata": {
        "id": "eobusoHrWbLN"
      },
      "execution_count": null,
      "outputs": []
    },
    {
      "cell_type": "code",
      "source": [
        "flashcards"
      ],
      "metadata": {
        "colab": {
          "base_uri": "https://localhost:8080/"
        },
        "id": "bTvEYODsWdT5",
        "outputId": "ea7a246c-6c63-416b-da17-65f0c9006344"
      },
      "execution_count": null,
      "outputs": [
        {
          "output_type": "execute_result",
          "data": {
            "text/plain": [
              "[{'question': 'Qual é a forma padrão de uma equação quadrática?',\n",
              "  'answer': 'A forma padrão de uma equação quadrática é ax² + bx + c = 0, onde a ≠ 0.'},\n",
              " {'question': 'Se o discriminante de uma equação quadrática é igual a zero, quantas raízes reais a equação possui?',\n",
              "  'answer': 'Se o discriminante (Δ) é igual a zero, a equação possui uma raiz real dupla (repetida).'},\n",
              " {'question': 'Quais são os três métodos principais para resolver uma equação quadrática mencionados no texto?',\n",
              "  'answer': 'Os três métodos são: Fatoração, Completando o Quadrado e Fórmula Quadrática.'},\n",
              " {'question': \"O que representam os coeficientes 'a', 'b' e 'c' na equação quadrática?\",\n",
              "  'answer': \"Os coeficientes 'a', 'b' e 'c' são números conhecidos que multiplicam as variáveis na equação.\"},\n",
              " {'question': \"Escreva a fórmula quadrática que fornece as soluções para 'x'.\",\n",
              "  'answer': 'A fórmula quadrática é: x = (-b ± √(b² - 4ac)) / 2a'},\n",
              " {'question': 'Se o discriminante de uma equação quadrática é negativo, o que podemos concluir sobre suas raízes?',\n",
              "  'answer': 'Se o discriminante é negativo, a equação possui duas raízes complexas conjugadas.'},\n",
              " {'question': 'Cite duas áreas do conhecimento onde as equações quadráticas têm aplicações práticas.',\n",
              "  'answer': 'Física e Engenharia (outras respostas possíveis: química, geometria).'},\n",
              " {'question': 'Qual a relação entre o discriminante e o número de raízes reais de uma equação quadrática?',\n",
              "  'answer': 'O discriminante determina a natureza das raízes: Δ > 0 implica em duas raízes reais distintas, Δ = 0 implica em uma raiz real dupla e Δ < 0 implica em duas raízes complexas conjugadas.'},\n",
              " {'question': 'No método de fatoração, como encontramos as soluções da equação após fatorá-la?',\n",
              "  'answer': \"Igualamos cada fator a zero e resolvemos para 'x'.\"},\n",
              " {'question': \"Qual a importância do termo 'a' ser diferente de zero na definição de uma equação quadrática?\",\n",
              "  'answer': \"Se 'a' for igual a zero, a equação deixa de ser de segundo grau e se torna uma equação linear.\"}]"
            ]
          },
          "metadata": {},
          "execution_count": 12
        }
      ]
    },
    {
      "cell_type": "code",
      "source": [
        "current_index = 0"
      ],
      "metadata": {
        "id": "8LlfQ10KWfSO"
      },
      "execution_count": null,
      "outputs": []
    },
    {
      "cell_type": "code",
      "source": [
        "display(HTML(\"\"\"\n",
        "<style>\n",
        ".flashcard {\n",
        "    padding: 0px;\n",
        "    border-radius: 15px;\n",
        "    border: 2px solid #ccc;\n",
        "    box-shadow: 2px 2px 12px rgba(0, 0, 0, 0.1);\n",
        "    margin: 10px 0;\n",
        "    max-width: 400px;\n",
        "    background-color: #ffffff;\n",
        "    height: 700px;\n",
        "    overflow: auto;\n",
        "}\n",
        ".question-label {\n",
        "    padding: 0px;\n",
        "    font-size: 18px;\n",
        "    font-weight: bold;\n",
        "}\n",
        ".answer-label {\n",
        "    padding: 0px;\n",
        "    font-size: 16px;\n",
        "    color: #0066cc;\n",
        "    margin-top: 10px;\n",
        "}\n",
        "</style>\n",
        "\"\"\"))\n",
        "\n",
        "question_html_style = \"padding: 0px; font-size: 18px; font-weight: bold\"\n",
        "answer_html_style = \"padding: 0px; font-size: 16px; color: #0066cc; margin-top: 10px\"\n",
        "\n",
        "question_html = widgets.HTML(value=f\"<div style='{question_html_style}'>{flashcards[current_index]['question']}</div>\")\n",
        "answer_html = widgets.HTML(value=\"\")\n",
        "\n",
        "previous_button = widgets.Button(description=\"Previous\")\n",
        "next_button = widgets.Button(description=\"Next\")\n",
        "show_answer_button = widgets.Button(description=\"Show Answer\")\n",
        "llm_image_button = widgets.Button(description=\"Send image to LLM\")\n",
        "\n",
        "card = widgets.VBox([question_html, answer_html])\n",
        "card.layout.padding = \"0px\"\n",
        "card.layout.border = \"2px solid #ccc\"\n",
        "card.layout.border_radius = \"15px\"\n",
        "card.layout.box_shadow = \"2px 2px 12px rgba(0, 0, 0, 0.1)\"\n",
        "card.layout.margin = \"10px 0\"\n",
        "card.layout.max_width = \"400px\"\n",
        "card.layout.background_color = \"#ffffff\"\n",
        "card.layout.height = \"200px\"\n",
        "card.layout.overflow = \"auto\"\n",
        "\n",
        "\n",
        "image_url_input = widgets.Text(\n",
        "    value='',\n",
        "    placeholder='Enter image URL',\n",
        "    description='Image URL:',\n",
        "    disabled=False\n",
        ")\n",
        "image_url_input.value = \"\"\n",
        "llm_answer = widgets.HTML(value=\"\")\n",
        "llm_card = widgets.VBox([image_url_input, llm_answer])"
      ],
      "metadata": {
        "colab": {
          "base_uri": "https://localhost:8080/",
          "height": 17
        },
        "id": "Em1jUApIWfzi",
        "outputId": "e2877799-05cf-4f3f-9cf0-275b5d5fcacd"
      },
      "execution_count": null,
      "outputs": [
        {
          "output_type": "display_data",
          "data": {
            "text/plain": [
              "<IPython.core.display.HTML object>"
            ],
            "text/html": [
              "\n",
              "<style>\n",
              ".flashcard {\n",
              "    padding: 0px;\n",
              "    border-radius: 15px;\n",
              "    border: 2px solid #ccc;\n",
              "    box-shadow: 2px 2px 12px rgba(0, 0, 0, 0.1);\n",
              "    margin: 10px 0;\n",
              "    max-width: 400px;\n",
              "    background-color: #ffffff;\n",
              "    height: 700px;\n",
              "    overflow: auto;\n",
              "}\n",
              ".question-label {\n",
              "    padding: 0px;\n",
              "    font-size: 18px;\n",
              "    font-weight: bold;\n",
              "}\n",
              ".answer-label {\n",
              "    padding: 0px;\n",
              "    font-size: 16px;\n",
              "    color: #0066cc;\n",
              "    margin-top: 10px;\n",
              "}\n",
              "</style>\n"
            ]
          },
          "metadata": {}
        }
      ]
    },
    {
      "cell_type": "code",
      "source": [
        "from langchain_core.prompts import ChatPromptTemplate\n",
        "\n",
        "def update_flashcard(index):\n",
        "    global current_index\n",
        "    current_index = index\n",
        "    question_html.value = f\"<div style='{question_html_style}'>{flashcards[current_index]['question']}</div>\"\n",
        "    answer_html.value = \"\"\n",
        "    image_url_input.value = \"\"\n",
        "    llm_answer.value = \"\"\n",
        "\n",
        "def on_previous_button_clicked(_):\n",
        "    global current_index\n",
        "    if current_index > 0:\n",
        "        update_flashcard(current_index - 1)\n",
        "\n",
        "def on_next_button_clicked(_):\n",
        "    global current_index\n",
        "    if current_index < len(flashcards) - 1:\n",
        "        update_flashcard(current_index + 1)\n",
        "\n",
        "def on_show_answer_button_clicked(_):\n",
        "    answer_html.value = f\"<div style='{answer_html_style}'>{flashcards[current_index]['answer']}</div>\"\n",
        "\n",
        "def on_llm_image_button_clicked(_):\n",
        "    image_url = image_url_input.value\n",
        "    if image_url:\n",
        "      llm_answer.value = \"Processing image...\"\n",
        "      prompt_correcao = PromptTemplate(\n",
        "        template= \"Você é um professor corrigindo a resposta da seguinte questão: {questão}. A questão possui a seguinte resposta correspondente: {resposta}.\"\n",
        "        \"Baseado na imagem que você receberá, determine se o aluno alcançou a resposta correta, não se preocupe com pequenos erros de escrita se a resposta final estiver correta. Caso não esteja correto, indique onde o aluno está errando. Responda em HTML.\"\n",
        "        \"Importante: não basta a resposta do aluno ser sobre o mesmo tema. Caso seja uma pergunta conceitual, a resposta do aluno deve explicar a linha de pensamento e não conter apenas calculos\",\n",
        "        input_variables=[\"imagem\"])\n",
        "\n",
        "      chain_correcao = prompt_correcao | ChatGoogleGenerativeAI(model='gemini-1.5-pro', api_key=userdata.get('GOOGLE_API_KEY'))\n",
        "\n",
        "      correcao = chain_correcao.invoke({\"questão\": flashcards[current_index]['question'], \"resposta\": flashcards[current_index]['answer'], \"imagem\": image_url})\n",
        "\n",
        "      llm_answer.value = correcao.content\n",
        "\n",
        "previous_button.on_click(on_previous_button_clicked)\n",
        "next_button.on_click(on_next_button_clicked)\n",
        "show_answer_button.on_click(on_show_answer_button_clicked)\n",
        "llm_image_button.on_click(on_llm_image_button_clicked)\n",
        "\n",
        "button_box = widgets.HBox([previous_button, next_button, show_answer_button, llm_image_button])\n",
        "\n",
        "\n",
        "display(card)\n",
        "display(button_box)\n",
        "display(llm_card)"
      ],
      "metadata": {
        "colab": {
          "base_uri": "https://localhost:8080/",
          "height": 390,
          "referenced_widgets": [
            "58aa6fec5a084f248601e58692317370",
            "cc896fef453245ff88550051398e15ba",
            "dda509d8460f4922936a59848afe7e67",
            "f3a3d43b660242fda31f378c1377a9b6",
            "94f465bb59a048dcb2025c5764d29cc9",
            "01e52abb16144c7cb2cf88ae4600b131",
            "b7aa61af9d074d83bc4ef52363c9d876",
            "bbb8442a1d994758b640ebbbf4523a6d",
            "2e108444cae4433bacb580ca77fcf4d6",
            "850dbfed89234dcd830ddf146dd23c34",
            "070933f034bb4f7da9996c1aedf93e93",
            "144a2710fa764c2fa2ca42b81fd548dc",
            "e1f88985018c47bd96b5e43b783b75f1",
            "04032d395c6d45538b01f8bcf03f1bc7",
            "568f88b712554ba9b828cb77fb13e7cd",
            "acec13c9f870487ea233133df84ea01b",
            "49a4cc8fa5584271bba025c85a7d75b5",
            "fbbfe0879d6f436792268dd3bc137fd4",
            "5c7dd53f8fff40e0923eccd9906bd033",
            "4b3d28617b8b49db886be41b8fddf866",
            "c52787c565074426b361a1195770b268",
            "9960c3e10a5e4f44b4ee1ad9e4741ae5",
            "5e0fa35a3b4243b1bbece9fb7f7d86ea",
            "6300a9a3d72e4d079e6400e0120ab2dc",
            "e1c4e9d01b7a4bef9da9f2fb520307cf",
            "99b07047771448b2b3d8778889530186",
            "e9d67018eaca4198a937ef11c86b86c2",
            "a1c14bc4da6e40f28dc33321d29fad08",
            "7e7241db1e6b4bfab03119b4fa03377b",
            "b20d24e8266d4ab4b708df165c01c189"
          ]
        },
        "outputId": "e3d07ad9-fe60-4146-d4db-c33955271e06",
        "id": "SPq2MIIYD9o7"
      },
      "execution_count": null,
      "outputs": [
        {
          "output_type": "display_data",
          "data": {
            "text/plain": [
              "VBox(children=(HTML(value=\"<div style='padding: 0px; font-size: 18px; font-weight: bold'>Qual é a forma padrão…"
            ],
            "application/vnd.jupyter.widget-view+json": {
              "version_major": 2,
              "version_minor": 0,
              "model_id": "58aa6fec5a084f248601e58692317370"
            }
          },
          "metadata": {}
        },
        {
          "output_type": "display_data",
          "data": {
            "text/plain": [
              "HBox(children=(Button(description='Previous', style=ButtonStyle()), Button(description='Next', style=ButtonSty…"
            ],
            "application/vnd.jupyter.widget-view+json": {
              "version_major": 2,
              "version_minor": 0,
              "model_id": "2e108444cae4433bacb580ca77fcf4d6"
            }
          },
          "metadata": {}
        },
        {
          "output_type": "display_data",
          "data": {
            "text/plain": [
              "VBox(children=(Text(value='', description='Image URL:', placeholder='Enter image URL'), HTML(value='')))"
            ],
            "application/vnd.jupyter.widget-view+json": {
              "version_major": 2,
              "version_minor": 0,
              "model_id": "5e0fa35a3b4243b1bbece9fb7f7d86ea"
            }
          },
          "metadata": {}
        }
      ]
    }
  ]
}